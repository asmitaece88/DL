{
 "cells": [
  {
   "cell_type": "markdown",
   "metadata": {},
   "source": [
    "# Download the data for Microsoft (‘MSFT’) from Yahoo Finance for the period ‘2000-1-1’ until today."
   ]
  },
  {
   "cell_type": "markdown",
   "metadata": {},
   "source": [
    "# dataset :MSFT_2000_2017.csv"
   ]
  },
  {
   "cell_type": "markdown",
   "metadata": {},
   "source": [
    "## import the libraries "
   ]
  },
  {
   "cell_type": "code",
   "execution_count": 5,
   "metadata": {},
   "outputs": [],
   "source": [
    "import numpy as np \n",
    "import pandas as pd\n",
    "from pandas_datareader import data as wb \n",
    "import matplotlib.pyplot as plt\n",
    "import os "
   ]
  },
  {
   "cell_type": "code",
   "execution_count": 6,
   "metadata": {},
   "outputs": [
    {
     "data": {
      "text/plain": [
       "'C:\\\\Users\\\\Asmita Chatterjee'"
      ]
     },
     "execution_count": 6,
     "metadata": {},
     "output_type": "execute_result"
    }
   ],
   "source": [
    "os.getcwd()"
   ]
  },
  {
   "cell_type": "code",
   "execution_count": 8,
   "metadata": {},
   "outputs": [],
   "source": [
    "MSFT = pd.read_csv('C:/Users/Asmita Chatterjee/MSFT_2000_2017.csv', index_col = 'Date')"
   ]
  },
  {
   "cell_type": "code",
   "execution_count": 10,
   "metadata": {},
   "outputs": [
    {
     "data": {
      "text/html": [
       "<div>\n",
       "<style scoped>\n",
       "    .dataframe tbody tr th:only-of-type {\n",
       "        vertical-align: middle;\n",
       "    }\n",
       "\n",
       "    .dataframe tbody tr th {\n",
       "        vertical-align: top;\n",
       "    }\n",
       "\n",
       "    .dataframe thead th {\n",
       "        text-align: right;\n",
       "    }\n",
       "</style>\n",
       "<table border=\"1\" class=\"dataframe\">\n",
       "  <thead>\n",
       "    <tr style=\"text-align: right;\">\n",
       "      <th></th>\n",
       "      <th>Open</th>\n",
       "      <th>High</th>\n",
       "      <th>Low</th>\n",
       "      <th>Close</th>\n",
       "      <th>Adj Close</th>\n",
       "      <th>Volume</th>\n",
       "    </tr>\n",
       "    <tr>\n",
       "      <th>Date</th>\n",
       "      <th></th>\n",
       "      <th></th>\n",
       "      <th></th>\n",
       "      <th></th>\n",
       "      <th></th>\n",
       "      <th></th>\n",
       "    </tr>\n",
       "  </thead>\n",
       "  <tbody>\n",
       "    <tr>\n",
       "      <th>1999-12-31</th>\n",
       "      <td>58.750000</td>\n",
       "      <td>58.87500</td>\n",
       "      <td>58.12500</td>\n",
       "      <td>58.37500</td>\n",
       "      <td>38.771053</td>\n",
       "      <td>12517600</td>\n",
       "    </tr>\n",
       "    <tr>\n",
       "      <th>2000-01-03</th>\n",
       "      <td>58.687500</td>\n",
       "      <td>59.31250</td>\n",
       "      <td>56.00000</td>\n",
       "      <td>58.28125</td>\n",
       "      <td>38.708794</td>\n",
       "      <td>53228400</td>\n",
       "    </tr>\n",
       "    <tr>\n",
       "      <th>2000-01-04</th>\n",
       "      <td>56.781250</td>\n",
       "      <td>58.56250</td>\n",
       "      <td>56.12500</td>\n",
       "      <td>56.31250</td>\n",
       "      <td>37.401215</td>\n",
       "      <td>54119000</td>\n",
       "    </tr>\n",
       "    <tr>\n",
       "      <th>2000-01-05</th>\n",
       "      <td>55.562500</td>\n",
       "      <td>58.18750</td>\n",
       "      <td>54.68750</td>\n",
       "      <td>56.90625</td>\n",
       "      <td>37.795563</td>\n",
       "      <td>64059600</td>\n",
       "    </tr>\n",
       "    <tr>\n",
       "      <th>2000-01-06</th>\n",
       "      <td>56.093750</td>\n",
       "      <td>56.93750</td>\n",
       "      <td>54.18750</td>\n",
       "      <td>55.00000</td>\n",
       "      <td>36.529484</td>\n",
       "      <td>54976600</td>\n",
       "    </tr>\n",
       "    <tr>\n",
       "      <th>2000-01-07</th>\n",
       "      <td>54.312500</td>\n",
       "      <td>56.12500</td>\n",
       "      <td>53.65625</td>\n",
       "      <td>55.71875</td>\n",
       "      <td>37.006855</td>\n",
       "      <td>62013600</td>\n",
       "    </tr>\n",
       "    <tr>\n",
       "      <th>2000-01-10</th>\n",
       "      <td>56.718750</td>\n",
       "      <td>56.84375</td>\n",
       "      <td>55.68750</td>\n",
       "      <td>56.12500</td>\n",
       "      <td>37.276661</td>\n",
       "      <td>44963600</td>\n",
       "    </tr>\n",
       "    <tr>\n",
       "      <th>2000-01-11</th>\n",
       "      <td>55.750000</td>\n",
       "      <td>57.12500</td>\n",
       "      <td>54.34375</td>\n",
       "      <td>54.68750</td>\n",
       "      <td>36.321934</td>\n",
       "      <td>46743600</td>\n",
       "    </tr>\n",
       "    <tr>\n",
       "      <th>2000-01-12</th>\n",
       "      <td>54.250000</td>\n",
       "      <td>54.43750</td>\n",
       "      <td>52.21875</td>\n",
       "      <td>52.90625</td>\n",
       "      <td>35.138874</td>\n",
       "      <td>66532400</td>\n",
       "    </tr>\n",
       "    <tr>\n",
       "      <th>2000-01-13</th>\n",
       "      <td>52.187500</td>\n",
       "      <td>54.31250</td>\n",
       "      <td>50.75000</td>\n",
       "      <td>53.90625</td>\n",
       "      <td>35.803043</td>\n",
       "      <td>83144000</td>\n",
       "    </tr>\n",
       "    <tr>\n",
       "      <th>2000-01-14</th>\n",
       "      <td>53.593750</td>\n",
       "      <td>56.96875</td>\n",
       "      <td>52.87500</td>\n",
       "      <td>56.12500</td>\n",
       "      <td>37.276661</td>\n",
       "      <td>73416400</td>\n",
       "    </tr>\n",
       "    <tr>\n",
       "      <th>2000-01-18</th>\n",
       "      <td>55.906250</td>\n",
       "      <td>58.25000</td>\n",
       "      <td>55.87500</td>\n",
       "      <td>57.65625</td>\n",
       "      <td>38.293682</td>\n",
       "      <td>81483600</td>\n",
       "    </tr>\n",
       "    <tr>\n",
       "      <th>2000-01-19</th>\n",
       "      <td>55.250000</td>\n",
       "      <td>55.75000</td>\n",
       "      <td>53.00000</td>\n",
       "      <td>53.50000</td>\n",
       "      <td>35.533215</td>\n",
       "      <td>97568200</td>\n",
       "    </tr>\n",
       "    <tr>\n",
       "      <th>2000-01-20</th>\n",
       "      <td>53.531250</td>\n",
       "      <td>54.84375</td>\n",
       "      <td>52.93750</td>\n",
       "      <td>53.00000</td>\n",
       "      <td>35.201126</td>\n",
       "      <td>56349800</td>\n",
       "    </tr>\n",
       "    <tr>\n",
       "      <th>2000-01-21</th>\n",
       "      <td>53.500000</td>\n",
       "      <td>53.62500</td>\n",
       "      <td>51.62500</td>\n",
       "      <td>51.87500</td>\n",
       "      <td>34.453938</td>\n",
       "      <td>68416200</td>\n",
       "    </tr>\n",
       "    <tr>\n",
       "      <th>2000-01-24</th>\n",
       "      <td>51.898399</td>\n",
       "      <td>52.84375</td>\n",
       "      <td>50.40625</td>\n",
       "      <td>50.62500</td>\n",
       "      <td>33.623737</td>\n",
       "      <td>63597600</td>\n",
       "    </tr>\n",
       "    <tr>\n",
       "      <th>2000-01-25</th>\n",
       "      <td>50.500000</td>\n",
       "      <td>51.93750</td>\n",
       "      <td>49.78125</td>\n",
       "      <td>51.40625</td>\n",
       "      <td>34.142609</td>\n",
       "      <td>59823200</td>\n",
       "    </tr>\n",
       "    <tr>\n",
       "      <th>2000-01-26</th>\n",
       "      <td>51.218750</td>\n",
       "      <td>51.75000</td>\n",
       "      <td>49.56250</td>\n",
       "      <td>49.68750</td>\n",
       "      <td>33.001049</td>\n",
       "      <td>49365000</td>\n",
       "    </tr>\n",
       "    <tr>\n",
       "      <th>2000-01-27</th>\n",
       "      <td>49.945301</td>\n",
       "      <td>50.59375</td>\n",
       "      <td>48.62500</td>\n",
       "      <td>49.37500</td>\n",
       "      <td>32.793507</td>\n",
       "      <td>63654800</td>\n",
       "    </tr>\n",
       "    <tr>\n",
       "      <th>2000-01-28</th>\n",
       "      <td>49.062500</td>\n",
       "      <td>50.12500</td>\n",
       "      <td>48.62500</td>\n",
       "      <td>49.12500</td>\n",
       "      <td>32.627457</td>\n",
       "      <td>58225400</td>\n",
       "    </tr>\n",
       "  </tbody>\n",
       "</table>\n",
       "</div>"
      ],
      "text/plain": [
       "                 Open      High       Low     Close  Adj Close    Volume\n",
       "Date                                                                    \n",
       "1999-12-31  58.750000  58.87500  58.12500  58.37500  38.771053  12517600\n",
       "2000-01-03  58.687500  59.31250  56.00000  58.28125  38.708794  53228400\n",
       "2000-01-04  56.781250  58.56250  56.12500  56.31250  37.401215  54119000\n",
       "2000-01-05  55.562500  58.18750  54.68750  56.90625  37.795563  64059600\n",
       "2000-01-06  56.093750  56.93750  54.18750  55.00000  36.529484  54976600\n",
       "2000-01-07  54.312500  56.12500  53.65625  55.71875  37.006855  62013600\n",
       "2000-01-10  56.718750  56.84375  55.68750  56.12500  37.276661  44963600\n",
       "2000-01-11  55.750000  57.12500  54.34375  54.68750  36.321934  46743600\n",
       "2000-01-12  54.250000  54.43750  52.21875  52.90625  35.138874  66532400\n",
       "2000-01-13  52.187500  54.31250  50.75000  53.90625  35.803043  83144000\n",
       "2000-01-14  53.593750  56.96875  52.87500  56.12500  37.276661  73416400\n",
       "2000-01-18  55.906250  58.25000  55.87500  57.65625  38.293682  81483600\n",
       "2000-01-19  55.250000  55.75000  53.00000  53.50000  35.533215  97568200\n",
       "2000-01-20  53.531250  54.84375  52.93750  53.00000  35.201126  56349800\n",
       "2000-01-21  53.500000  53.62500  51.62500  51.87500  34.453938  68416200\n",
       "2000-01-24  51.898399  52.84375  50.40625  50.62500  33.623737  63597600\n",
       "2000-01-25  50.500000  51.93750  49.78125  51.40625  34.142609  59823200\n",
       "2000-01-26  51.218750  51.75000  49.56250  49.68750  33.001049  49365000\n",
       "2000-01-27  49.945301  50.59375  48.62500  49.37500  32.793507  63654800\n",
       "2000-01-28  49.062500  50.12500  48.62500  49.12500  32.627457  58225400"
      ]
     },
     "execution_count": 10,
     "metadata": {},
     "output_type": "execute_result"
    }
   ],
   "source": [
    "MSFT.head(20)"
   ]
  },
  {
   "cell_type": "code",
   "execution_count": 11,
   "metadata": {},
   "outputs": [
    {
     "data": {
      "text/plain": [
       "pandas.core.frame.DataFrame"
      ]
     },
     "execution_count": 11,
     "metadata": {},
     "output_type": "execute_result"
    }
   ],
   "source": [
    "type(MSFT)"
   ]
  },
  {
   "cell_type": "markdown",
   "metadata": {},
   "source": [
    "## check the tail "
   ]
  },
  {
   "cell_type": "code",
   "execution_count": 12,
   "metadata": {},
   "outputs": [
    {
     "data": {
      "text/html": [
       "<div>\n",
       "<style scoped>\n",
       "    .dataframe tbody tr th:only-of-type {\n",
       "        vertical-align: middle;\n",
       "    }\n",
       "\n",
       "    .dataframe tbody tr th {\n",
       "        vertical-align: top;\n",
       "    }\n",
       "\n",
       "    .dataframe thead th {\n",
       "        text-align: right;\n",
       "    }\n",
       "</style>\n",
       "<table border=\"1\" class=\"dataframe\">\n",
       "  <thead>\n",
       "    <tr style=\"text-align: right;\">\n",
       "      <th></th>\n",
       "      <th>Open</th>\n",
       "      <th>High</th>\n",
       "      <th>Low</th>\n",
       "      <th>Close</th>\n",
       "      <th>Adj Close</th>\n",
       "      <th>Volume</th>\n",
       "    </tr>\n",
       "    <tr>\n",
       "      <th>Date</th>\n",
       "      <th></th>\n",
       "      <th></th>\n",
       "      <th></th>\n",
       "      <th></th>\n",
       "      <th></th>\n",
       "      <th></th>\n",
       "    </tr>\n",
       "  </thead>\n",
       "  <tbody>\n",
       "    <tr>\n",
       "      <th>2017-11-14</th>\n",
       "      <td>83.500000</td>\n",
       "      <td>84.099998</td>\n",
       "      <td>82.980003</td>\n",
       "      <td>84.050003</td>\n",
       "      <td>83.630005</td>\n",
       "      <td>18801300</td>\n",
       "    </tr>\n",
       "    <tr>\n",
       "      <th>2017-11-15</th>\n",
       "      <td>83.470001</td>\n",
       "      <td>83.690002</td>\n",
       "      <td>82.690002</td>\n",
       "      <td>82.980003</td>\n",
       "      <td>82.980003</td>\n",
       "      <td>19383100</td>\n",
       "    </tr>\n",
       "    <tr>\n",
       "      <th>2017-11-16</th>\n",
       "      <td>83.099998</td>\n",
       "      <td>83.419998</td>\n",
       "      <td>82.940002</td>\n",
       "      <td>83.199997</td>\n",
       "      <td>83.199997</td>\n",
       "      <td>20962800</td>\n",
       "    </tr>\n",
       "    <tr>\n",
       "      <th>2017-11-17</th>\n",
       "      <td>83.120003</td>\n",
       "      <td>83.120003</td>\n",
       "      <td>82.239998</td>\n",
       "      <td>82.400002</td>\n",
       "      <td>82.400002</td>\n",
       "      <td>22079000</td>\n",
       "    </tr>\n",
       "    <tr>\n",
       "      <th>2017-11-20</th>\n",
       "      <td>82.400002</td>\n",
       "      <td>82.589996</td>\n",
       "      <td>82.250000</td>\n",
       "      <td>82.529999</td>\n",
       "      <td>82.529999</td>\n",
       "      <td>16315000</td>\n",
       "    </tr>\n",
       "    <tr>\n",
       "      <th>2017-11-21</th>\n",
       "      <td>82.739998</td>\n",
       "      <td>83.839996</td>\n",
       "      <td>82.739998</td>\n",
       "      <td>83.720001</td>\n",
       "      <td>83.720001</td>\n",
       "      <td>21237500</td>\n",
       "    </tr>\n",
       "    <tr>\n",
       "      <th>2017-11-22</th>\n",
       "      <td>83.830002</td>\n",
       "      <td>83.900002</td>\n",
       "      <td>83.040001</td>\n",
       "      <td>83.110001</td>\n",
       "      <td>83.110001</td>\n",
       "      <td>20553100</td>\n",
       "    </tr>\n",
       "    <tr>\n",
       "      <th>2017-11-24</th>\n",
       "      <td>83.010002</td>\n",
       "      <td>83.430000</td>\n",
       "      <td>82.779999</td>\n",
       "      <td>83.260002</td>\n",
       "      <td>83.260002</td>\n",
       "      <td>7425600</td>\n",
       "    </tr>\n",
       "    <tr>\n",
       "      <th>2017-11-27</th>\n",
       "      <td>83.309998</td>\n",
       "      <td>83.980003</td>\n",
       "      <td>83.300003</td>\n",
       "      <td>83.870003</td>\n",
       "      <td>83.870003</td>\n",
       "      <td>18265200</td>\n",
       "    </tr>\n",
       "    <tr>\n",
       "      <th>2017-11-28</th>\n",
       "      <td>84.070000</td>\n",
       "      <td>85.059998</td>\n",
       "      <td>84.019997</td>\n",
       "      <td>84.879997</td>\n",
       "      <td>84.879997</td>\n",
       "      <td>21926000</td>\n",
       "    </tr>\n",
       "    <tr>\n",
       "      <th>2017-11-29</th>\n",
       "      <td>84.709999</td>\n",
       "      <td>84.919998</td>\n",
       "      <td>83.180000</td>\n",
       "      <td>83.339996</td>\n",
       "      <td>83.339996</td>\n",
       "      <td>27381100</td>\n",
       "    </tr>\n",
       "    <tr>\n",
       "      <th>2017-11-30</th>\n",
       "      <td>83.510002</td>\n",
       "      <td>84.519997</td>\n",
       "      <td>83.339996</td>\n",
       "      <td>84.169998</td>\n",
       "      <td>84.169998</td>\n",
       "      <td>33054600</td>\n",
       "    </tr>\n",
       "    <tr>\n",
       "      <th>2017-12-01</th>\n",
       "      <td>83.599998</td>\n",
       "      <td>84.809998</td>\n",
       "      <td>83.220001</td>\n",
       "      <td>84.260002</td>\n",
       "      <td>84.260002</td>\n",
       "      <td>29532100</td>\n",
       "    </tr>\n",
       "    <tr>\n",
       "      <th>2017-12-04</th>\n",
       "      <td>84.419998</td>\n",
       "      <td>84.430000</td>\n",
       "      <td>80.699997</td>\n",
       "      <td>81.080002</td>\n",
       "      <td>81.080002</td>\n",
       "      <td>39094900</td>\n",
       "    </tr>\n",
       "    <tr>\n",
       "      <th>2017-12-05</th>\n",
       "      <td>81.339996</td>\n",
       "      <td>82.680000</td>\n",
       "      <td>80.980003</td>\n",
       "      <td>81.589996</td>\n",
       "      <td>81.589996</td>\n",
       "      <td>26152300</td>\n",
       "    </tr>\n",
       "    <tr>\n",
       "      <th>2017-12-06</th>\n",
       "      <td>81.550003</td>\n",
       "      <td>83.139999</td>\n",
       "      <td>81.430000</td>\n",
       "      <td>82.779999</td>\n",
       "      <td>82.779999</td>\n",
       "      <td>26162100</td>\n",
       "    </tr>\n",
       "    <tr>\n",
       "      <th>2017-12-07</th>\n",
       "      <td>82.540001</td>\n",
       "      <td>82.800003</td>\n",
       "      <td>82.000000</td>\n",
       "      <td>82.489998</td>\n",
       "      <td>82.489998</td>\n",
       "      <td>23184500</td>\n",
       "    </tr>\n",
       "    <tr>\n",
       "      <th>2017-12-08</th>\n",
       "      <td>83.629997</td>\n",
       "      <td>84.580002</td>\n",
       "      <td>83.330002</td>\n",
       "      <td>84.160004</td>\n",
       "      <td>84.160004</td>\n",
       "      <td>24489100</td>\n",
       "    </tr>\n",
       "    <tr>\n",
       "      <th>2017-12-11</th>\n",
       "      <td>84.290001</td>\n",
       "      <td>85.370003</td>\n",
       "      <td>84.120003</td>\n",
       "      <td>85.230003</td>\n",
       "      <td>85.230003</td>\n",
       "      <td>20121700</td>\n",
       "    </tr>\n",
       "    <tr>\n",
       "      <th>2017-12-12</th>\n",
       "      <td>85.309998</td>\n",
       "      <td>86.050003</td>\n",
       "      <td>85.080002</td>\n",
       "      <td>85.529999</td>\n",
       "      <td>85.529999</td>\n",
       "      <td>7805031</td>\n",
       "    </tr>\n",
       "  </tbody>\n",
       "</table>\n",
       "</div>"
      ],
      "text/plain": [
       "                 Open       High        Low      Close  Adj Close    Volume\n",
       "Date                                                                       \n",
       "2017-11-14  83.500000  84.099998  82.980003  84.050003  83.630005  18801300\n",
       "2017-11-15  83.470001  83.690002  82.690002  82.980003  82.980003  19383100\n",
       "2017-11-16  83.099998  83.419998  82.940002  83.199997  83.199997  20962800\n",
       "2017-11-17  83.120003  83.120003  82.239998  82.400002  82.400002  22079000\n",
       "2017-11-20  82.400002  82.589996  82.250000  82.529999  82.529999  16315000\n",
       "2017-11-21  82.739998  83.839996  82.739998  83.720001  83.720001  21237500\n",
       "2017-11-22  83.830002  83.900002  83.040001  83.110001  83.110001  20553100\n",
       "2017-11-24  83.010002  83.430000  82.779999  83.260002  83.260002   7425600\n",
       "2017-11-27  83.309998  83.980003  83.300003  83.870003  83.870003  18265200\n",
       "2017-11-28  84.070000  85.059998  84.019997  84.879997  84.879997  21926000\n",
       "2017-11-29  84.709999  84.919998  83.180000  83.339996  83.339996  27381100\n",
       "2017-11-30  83.510002  84.519997  83.339996  84.169998  84.169998  33054600\n",
       "2017-12-01  83.599998  84.809998  83.220001  84.260002  84.260002  29532100\n",
       "2017-12-04  84.419998  84.430000  80.699997  81.080002  81.080002  39094900\n",
       "2017-12-05  81.339996  82.680000  80.980003  81.589996  81.589996  26152300\n",
       "2017-12-06  81.550003  83.139999  81.430000  82.779999  82.779999  26162100\n",
       "2017-12-07  82.540001  82.800003  82.000000  82.489998  82.489998  23184500\n",
       "2017-12-08  83.629997  84.580002  83.330002  84.160004  84.160004  24489100\n",
       "2017-12-11  84.290001  85.370003  84.120003  85.230003  85.230003  20121700\n",
       "2017-12-12  85.309998  86.050003  85.080002  85.529999  85.529999   7805031"
      ]
     },
     "execution_count": 12,
     "metadata": {},
     "output_type": "execute_result"
    }
   ],
   "source": [
    "MSFT.tail(20)"
   ]
  },
  {
   "cell_type": "markdown",
   "metadata": {},
   "source": [
    "# calculating simple rate of  return "
   ]
  },
  {
   "cell_type": "markdown",
   "metadata": {},
   "source": [
    "# Calculate the simple returns of ‘MSFT’ for the given timeframe.\n",
    "\n",
    "# (𝑃1−𝑃0)/𝑃0=𝑃1/𝑃0−1"
   ]
  },
  {
   "cell_type": "code",
   "execution_count": 13,
   "metadata": {},
   "outputs": [
    {
     "name": "stdout",
     "output_type": "stream",
     "text": [
      "Date\n",
      "1999-12-31         NaN\n",
      "2000-01-03   -0.001606\n",
      "2000-01-04   -0.033780\n",
      "2000-01-05    0.010544\n",
      "2000-01-06   -0.033498\n",
      "                ...   \n",
      "2017-12-06    0.014585\n",
      "2017-12-07   -0.003503\n",
      "2017-12-08    0.020245\n",
      "2017-12-11    0.012714\n",
      "2017-12-12    0.003520\n",
      "Name: simple_return, Length: 4517, dtype: float64\n"
     ]
    }
   ],
   "source": [
    "MSFT['simple_return']= (MSFT['Adj Close']/MSFT['Adj Close'].shift(1))-1\n",
    "print(MSFT['simple_return'])"
   ]
  },
  {
   "cell_type": "code",
   "execution_count": 14,
   "metadata": {},
   "outputs": [
    {
     "data": {
      "text/html": [
       "<div>\n",
       "<style scoped>\n",
       "    .dataframe tbody tr th:only-of-type {\n",
       "        vertical-align: middle;\n",
       "    }\n",
       "\n",
       "    .dataframe tbody tr th {\n",
       "        vertical-align: top;\n",
       "    }\n",
       "\n",
       "    .dataframe thead th {\n",
       "        text-align: right;\n",
       "    }\n",
       "</style>\n",
       "<table border=\"1\" class=\"dataframe\">\n",
       "  <thead>\n",
       "    <tr style=\"text-align: right;\">\n",
       "      <th></th>\n",
       "      <th>Open</th>\n",
       "      <th>High</th>\n",
       "      <th>Low</th>\n",
       "      <th>Close</th>\n",
       "      <th>Adj Close</th>\n",
       "      <th>Volume</th>\n",
       "      <th>simple_return</th>\n",
       "    </tr>\n",
       "    <tr>\n",
       "      <th>Date</th>\n",
       "      <th></th>\n",
       "      <th></th>\n",
       "      <th></th>\n",
       "      <th></th>\n",
       "      <th></th>\n",
       "      <th></th>\n",
       "      <th></th>\n",
       "    </tr>\n",
       "  </thead>\n",
       "  <tbody>\n",
       "    <tr>\n",
       "      <th>1999-12-31</th>\n",
       "      <td>58.75000</td>\n",
       "      <td>58.87500</td>\n",
       "      <td>58.12500</td>\n",
       "      <td>58.37500</td>\n",
       "      <td>38.771053</td>\n",
       "      <td>12517600</td>\n",
       "      <td>NaN</td>\n",
       "    </tr>\n",
       "    <tr>\n",
       "      <th>2000-01-03</th>\n",
       "      <td>58.68750</td>\n",
       "      <td>59.31250</td>\n",
       "      <td>56.00000</td>\n",
       "      <td>58.28125</td>\n",
       "      <td>38.708794</td>\n",
       "      <td>53228400</td>\n",
       "      <td>-0.001606</td>\n",
       "    </tr>\n",
       "    <tr>\n",
       "      <th>2000-01-04</th>\n",
       "      <td>56.78125</td>\n",
       "      <td>58.56250</td>\n",
       "      <td>56.12500</td>\n",
       "      <td>56.31250</td>\n",
       "      <td>37.401215</td>\n",
       "      <td>54119000</td>\n",
       "      <td>-0.033780</td>\n",
       "    </tr>\n",
       "    <tr>\n",
       "      <th>2000-01-05</th>\n",
       "      <td>55.56250</td>\n",
       "      <td>58.18750</td>\n",
       "      <td>54.68750</td>\n",
       "      <td>56.90625</td>\n",
       "      <td>37.795563</td>\n",
       "      <td>64059600</td>\n",
       "      <td>0.010544</td>\n",
       "    </tr>\n",
       "    <tr>\n",
       "      <th>2000-01-06</th>\n",
       "      <td>56.09375</td>\n",
       "      <td>56.93750</td>\n",
       "      <td>54.18750</td>\n",
       "      <td>55.00000</td>\n",
       "      <td>36.529484</td>\n",
       "      <td>54976600</td>\n",
       "      <td>-0.033498</td>\n",
       "    </tr>\n",
       "    <tr>\n",
       "      <th>2000-01-07</th>\n",
       "      <td>54.31250</td>\n",
       "      <td>56.12500</td>\n",
       "      <td>53.65625</td>\n",
       "      <td>55.71875</td>\n",
       "      <td>37.006855</td>\n",
       "      <td>62013600</td>\n",
       "      <td>0.013068</td>\n",
       "    </tr>\n",
       "    <tr>\n",
       "      <th>2000-01-10</th>\n",
       "      <td>56.71875</td>\n",
       "      <td>56.84375</td>\n",
       "      <td>55.68750</td>\n",
       "      <td>56.12500</td>\n",
       "      <td>37.276661</td>\n",
       "      <td>44963600</td>\n",
       "      <td>0.007291</td>\n",
       "    </tr>\n",
       "    <tr>\n",
       "      <th>2000-01-11</th>\n",
       "      <td>55.75000</td>\n",
       "      <td>57.12500</td>\n",
       "      <td>54.34375</td>\n",
       "      <td>54.68750</td>\n",
       "      <td>36.321934</td>\n",
       "      <td>46743600</td>\n",
       "      <td>-0.025612</td>\n",
       "    </tr>\n",
       "    <tr>\n",
       "      <th>2000-01-12</th>\n",
       "      <td>54.25000</td>\n",
       "      <td>54.43750</td>\n",
       "      <td>52.21875</td>\n",
       "      <td>52.90625</td>\n",
       "      <td>35.138874</td>\n",
       "      <td>66532400</td>\n",
       "      <td>-0.032572</td>\n",
       "    </tr>\n",
       "    <tr>\n",
       "      <th>2000-01-13</th>\n",
       "      <td>52.18750</td>\n",
       "      <td>54.31250</td>\n",
       "      <td>50.75000</td>\n",
       "      <td>53.90625</td>\n",
       "      <td>35.803043</td>\n",
       "      <td>83144000</td>\n",
       "      <td>0.018901</td>\n",
       "    </tr>\n",
       "    <tr>\n",
       "      <th>2000-01-14</th>\n",
       "      <td>53.59375</td>\n",
       "      <td>56.96875</td>\n",
       "      <td>52.87500</td>\n",
       "      <td>56.12500</td>\n",
       "      <td>37.276661</td>\n",
       "      <td>73416400</td>\n",
       "      <td>0.041159</td>\n",
       "    </tr>\n",
       "    <tr>\n",
       "      <th>2000-01-18</th>\n",
       "      <td>55.90625</td>\n",
       "      <td>58.25000</td>\n",
       "      <td>55.87500</td>\n",
       "      <td>57.65625</td>\n",
       "      <td>38.293682</td>\n",
       "      <td>81483600</td>\n",
       "      <td>0.027283</td>\n",
       "    </tr>\n",
       "  </tbody>\n",
       "</table>\n",
       "</div>"
      ],
      "text/plain": [
       "                Open      High       Low     Close  Adj Close    Volume  \\\n",
       "Date                                                                      \n",
       "1999-12-31  58.75000  58.87500  58.12500  58.37500  38.771053  12517600   \n",
       "2000-01-03  58.68750  59.31250  56.00000  58.28125  38.708794  53228400   \n",
       "2000-01-04  56.78125  58.56250  56.12500  56.31250  37.401215  54119000   \n",
       "2000-01-05  55.56250  58.18750  54.68750  56.90625  37.795563  64059600   \n",
       "2000-01-06  56.09375  56.93750  54.18750  55.00000  36.529484  54976600   \n",
       "2000-01-07  54.31250  56.12500  53.65625  55.71875  37.006855  62013600   \n",
       "2000-01-10  56.71875  56.84375  55.68750  56.12500  37.276661  44963600   \n",
       "2000-01-11  55.75000  57.12500  54.34375  54.68750  36.321934  46743600   \n",
       "2000-01-12  54.25000  54.43750  52.21875  52.90625  35.138874  66532400   \n",
       "2000-01-13  52.18750  54.31250  50.75000  53.90625  35.803043  83144000   \n",
       "2000-01-14  53.59375  56.96875  52.87500  56.12500  37.276661  73416400   \n",
       "2000-01-18  55.90625  58.25000  55.87500  57.65625  38.293682  81483600   \n",
       "\n",
       "            simple_return  \n",
       "Date                       \n",
       "1999-12-31            NaN  \n",
       "2000-01-03      -0.001606  \n",
       "2000-01-04      -0.033780  \n",
       "2000-01-05       0.010544  \n",
       "2000-01-06      -0.033498  \n",
       "2000-01-07       0.013068  \n",
       "2000-01-10       0.007291  \n",
       "2000-01-11      -0.025612  \n",
       "2000-01-12      -0.032572  \n",
       "2000-01-13       0.018901  \n",
       "2000-01-14       0.041159  \n",
       "2000-01-18       0.027283  "
      ]
     },
     "execution_count": 14,
     "metadata": {},
     "output_type": "execute_result"
    }
   ],
   "source": [
    "MSFT.head(12)"
   ]
  },
  {
   "cell_type": "markdown",
   "metadata": {},
   "source": [
    "##  before transforming these values , into more reasonable numbers , ets plot them on a graph"
   ]
  },
  {
   "cell_type": "code",
   "execution_count": 21,
   "metadata": {},
   "outputs": [
    {
     "data": {
      "image/png": "[encoded data removed]",
      "text/plain": [
       "<Figure size 576x360 with 1 Axes>"
      ]
     },
     "metadata": {
      "needs_background": "light"
     },
     "output_type": "display_data"
    }
   ],
   "source": [
    "MSFT['simple_return'].plot(figsize=(8,5))\n",
    "plt.show()"
   ]
  },
  {
   "cell_type": "markdown",
   "metadata": {},
   "source": [
    "## averge daily rate of return "
   ]
  },
  {
   "cell_type": "code",
   "execution_count": 17,
   "metadata": {},
   "outputs": [
    {
     "data": {
      "text/plain": [
       "0.00036250887702754536"
      ]
     },
     "execution_count": 17,
     "metadata": {},
     "output_type": "execute_result"
    }
   ],
   "source": [
    "avg_returns_d = MSFT['simple_return'].mean()\n",
    "avg_returns_d"
   ]
  },
  {
   "cell_type": "markdown",
   "metadata": {},
   "source": [
    "# average rate of return for all the wrking days \n",
    "## excluding bank holidays  and stayrday and sunday , number of tradong days are 250 around "
   ]
  },
  {
   "cell_type": "code",
   "execution_count": 23,
   "metadata": {},
   "outputs": [
    {
     "data": {
      "text/plain": [
       "0.09062721925688634"
      ]
     },
     "execution_count": 23,
     "metadata": {},
     "output_type": "execute_result"
    }
   ],
   "source": [
    "avg_returns_a = MSFT['simple_return'].mean() *250\n",
    "avg_returns_a"
   ]
  },
  {
   "cell_type": "markdown",
   "metadata": {},
   "source": [
    "## transform the above value to a  percentage  "
   ]
  },
  {
   "cell_type": "code",
   "execution_count": 25,
   "metadata": {},
   "outputs": [
    {
     "name": "stdout",
     "output_type": "stream",
     "text": [
      "9.06272%\n"
     ]
    }
   ],
   "source": [
    "print(str(round(avg_returns_a,7) * 100 ) + \"%\")"
   ]
  },
  {
   "cell_type": "markdown",
   "metadata": {},
   "source": [
    "## calculating logarithmic rate of return"
   ]
  },
  {
   "cell_type": "code",
   "execution_count": 26,
   "metadata": {},
   "outputs": [],
   "source": [
    "MSFT['log_return']=np.log(MSFT['Adj Close']/MSFT['Adj Close'].shift(1))"
   ]
  },
  {
   "cell_type": "code",
   "execution_count": 27,
   "metadata": {},
   "outputs": [
    {
     "name": "stdout",
     "output_type": "stream",
     "text": [
      "Date\n",
      "1999-12-31         NaN\n",
      "2000-01-03   -0.001607\n",
      "2000-01-04   -0.034364\n",
      "2000-01-05    0.010489\n",
      "2000-01-06   -0.034072\n",
      "                ...   \n",
      "2017-12-06    0.014480\n",
      "2017-12-07   -0.003509\n",
      "2017-12-08    0.020043\n",
      "2017-12-11    0.012634\n",
      "2017-12-12    0.003514\n",
      "Name: log_return, Length: 4517, dtype: float64\n"
     ]
    }
   ],
   "source": [
    "print(MSFT['log_return'])"
   ]
  },
  {
   "cell_type": "code",
   "execution_count": 29,
   "metadata": {},
   "outputs": [
    {
     "data": {
      "image/png": "[encoded data removed]",
      "text/plain": [
       "<Figure size 576x360 with 1 Axes>"
      ]
     },
     "metadata": {
      "needs_background": "light"
     },
     "output_type": "display_data"
    }
   ],
   "source": [
    "MSFT['log_return'].plot(figsize=(8,5))\n",
    "plt.show()"
   ]
  },
  {
   "cell_type": "markdown",
   "metadata": {},
   "source": [
    "## finding out log return daily "
   ]
  },
  {
   "cell_type": "code",
   "execution_count": 31,
   "metadata": {},
   "outputs": [
    {
     "data": {
      "text/plain": [
       "0.00017519780079971006"
      ]
     },
     "execution_count": 31,
     "metadata": {},
     "output_type": "execute_result"
    }
   ],
   "source": [
    "log_ret_d = MSFT['log_return'].mean()\n",
    "log_ret_d"
   ]
  },
  {
   "cell_type": "code",
   "execution_count": 34,
   "metadata": {},
   "outputs": [
    {
     "data": {
      "text/plain": [
       "0.043799450199927516"
      ]
     },
     "execution_count": 34,
     "metadata": {},
     "output_type": "execute_result"
    }
   ],
   "source": [
    "log_ret_a =  MSFT['log_return'].mean()*250\n",
    "log_ret_a"
   ]
  },
  {
   "cell_type": "code",
   "execution_count": 36,
   "metadata": {},
   "outputs": [
    {
     "name": "stdout",
     "output_type": "stream",
     "text": [
      "4.38%\n"
     ]
    }
   ],
   "source": [
    "print(str(round(log_ret_a,5)*100) + \"%\")"
   ]
  },
  {
   "cell_type": "code",
   "execution_count": null,
   "metadata": {},
   "outputs": [],
   "source": []
  }
 ],
 "metadata": {
  "kernelspec": {
   "display_name": "Python 3",
   "language": "python",
   "name": "python3"
  },
  "language_info": {
   "codemirror_mode": {
    "name": "ipython",
    "version": 3
   },
   "file_extension": ".py",
   "mimetype": "text/x-python",
   "name": "python",
   "nbconvert_exporter": "python",
   "pygments_lexer": "ipython3",
   "version": "3.7.7"
  }
 },
 "nbformat": 4,
 "nbformat_minor": 4
}
