{
 "cells": [
  {
   "cell_type": "markdown",
   "metadata": {},
   "source": [
    "# Calculating the Return of a Portfolio of Securities"
   ]
  },
  {
   "cell_type": "markdown",
   "metadata": {},
   "source": [
    "# Download data for a portfolio composed of 5 stocks. \n",
    "# Do it for British Petroleum, Ford, Exxon, Lincoln, and Apple for the period ‘2000-1-1’ until today."
   ]
  },
  {
   "cell_type": "code",
   "execution_count": 1,
   "metadata": {},
   "outputs": [],
   "source": [
    "import numpy as np\n",
    "import pandas as pd\n",
    "from pandas_datareader import data as wb\n",
    "import matplotlib.pyplot as plt"
   ]
  },
  {
   "cell_type": "code",
   "execution_count": 2,
   "metadata": {},
   "outputs": [],
   "source": [
    "x_labels = ['BP','F','XOM','LNC','AAPL']"
   ]
  },
  {
   "cell_type": "code",
   "execution_count": 3,
   "metadata": {},
   "outputs": [],
   "source": [
    "my_data = pd.DataFrame()"
   ]
  },
  {
   "cell_type": "code",
   "execution_count": 4,
   "metadata": {},
   "outputs": [
    {
     "data": {
      "text/plain": [
       "(Empty DataFrame\n",
       " Columns: []\n",
       " Index: [],\n",
       " pandas.core.frame.DataFrame)"
      ]
     },
     "execution_count": 4,
     "metadata": {},
     "output_type": "execute_result"
    }
   ],
   "source": [
    "my_data , type(my_data)"
   ]
  },
  {
   "cell_type": "code",
   "execution_count": 5,
   "metadata": {},
   "outputs": [],
   "source": [
    "for t in x_labels:\n",
    "    my_data[t]=wb.DataReader(t,data_source=\"yahoo\",start='2000-1-1')['Adj Close']"
   ]
  },
  {
   "cell_type": "code",
   "execution_count": 6,
   "metadata": {},
   "outputs": [
    {
     "data": {
      "text/plain": [
       "(                   BP          F        XOM        LNC        AAPL\n",
       " Date                                                              \n",
       " 1999-12-31  22.191998  15.339188  21.492596  24.115664    0.791887\n",
       " 2000-01-03  22.004932  15.069453  20.892334  23.550459    0.862170\n",
       " 2000-01-04  21.888002  14.565937  20.492161  22.872194    0.789479\n",
       " 2000-01-05  22.636316  14.619884  21.609318  22.080902    0.801033\n",
       " 2000-01-06  22.683081  14.637873  22.726467  22.485029    0.731713\n",
       " ...               ...        ...        ...        ...         ...\n",
       " 2020-12-18  21.740000   8.950000  42.730000  48.610001  126.660004\n",
       " 2020-12-21  20.680000   8.930000  41.950001  48.430000  128.229996\n",
       " 2020-12-22  20.480000   8.790000  41.240002  47.970001  131.880005\n",
       " 2020-12-23  21.209999   8.990000  41.770000  49.950001  130.960007\n",
       " 2020-12-24  21.059999   8.860000  41.599998  49.740002  131.970001\n",
       " \n",
       " [5281 rows x 5 columns],\n",
       " DatetimeIndex(['1999-12-31', '2000-01-03', '2000-01-04', '2000-01-05',\n",
       "                '2000-01-06', '2000-01-07', '2000-01-10', '2000-01-11',\n",
       "                '2000-01-12', '2000-01-13',\n",
       "                ...\n",
       "                '2020-12-11', '2020-12-14', '2020-12-15', '2020-12-16',\n",
       "                '2020-12-17', '2020-12-18', '2020-12-21', '2020-12-22',\n",
       "                '2020-12-23', '2020-12-24'],\n",
       "               dtype='datetime64[ns]', name='Date', length=5281, freq=None))"
      ]
     },
     "execution_count": 6,
     "metadata": {},
     "output_type": "execute_result"
    }
   ],
   "source": [
    "my_data  , my_data.index"
   ]
  },
  {
   "cell_type": "code",
   "execution_count": 7,
   "metadata": {},
   "outputs": [
    {
     "data": {
      "text/html": [
       "<div>\n",
       "<style scoped>\n",
       "    .dataframe tbody tr th:only-of-type {\n",
       "        vertical-align: middle;\n",
       "    }\n",
       "\n",
       "    .dataframe tbody tr th {\n",
       "        vertical-align: top;\n",
       "    }\n",
       "\n",
       "    .dataframe thead th {\n",
       "        text-align: right;\n",
       "    }\n",
       "</style>\n",
       "<table border=\"1\" class=\"dataframe\">\n",
       "  <thead>\n",
       "    <tr style=\"text-align: right;\">\n",
       "      <th></th>\n",
       "      <th>BP</th>\n",
       "      <th>F</th>\n",
       "      <th>XOM</th>\n",
       "      <th>LNC</th>\n",
       "      <th>AAPL</th>\n",
       "    </tr>\n",
       "    <tr>\n",
       "      <th>Date</th>\n",
       "      <th></th>\n",
       "      <th></th>\n",
       "      <th></th>\n",
       "      <th></th>\n",
       "      <th></th>\n",
       "    </tr>\n",
       "  </thead>\n",
       "  <tbody>\n",
       "    <tr>\n",
       "      <th>2020-12-11</th>\n",
       "      <td>22.030001</td>\n",
       "      <td>9.02</td>\n",
       "      <td>43.799999</td>\n",
       "      <td>51.330002</td>\n",
       "      <td>122.410004</td>\n",
       "    </tr>\n",
       "    <tr>\n",
       "      <th>2020-12-14</th>\n",
       "      <td>21.360001</td>\n",
       "      <td>8.91</td>\n",
       "      <td>42.220001</td>\n",
       "      <td>50.049999</td>\n",
       "      <td>121.779999</td>\n",
       "    </tr>\n",
       "    <tr>\n",
       "      <th>2020-12-15</th>\n",
       "      <td>21.940001</td>\n",
       "      <td>9.15</td>\n",
       "      <td>43.040001</td>\n",
       "      <td>50.360001</td>\n",
       "      <td>127.879997</td>\n",
       "    </tr>\n",
       "    <tr>\n",
       "      <th>2020-12-16</th>\n",
       "      <td>21.830000</td>\n",
       "      <td>9.04</td>\n",
       "      <td>43.700001</td>\n",
       "      <td>50.240002</td>\n",
       "      <td>127.809998</td>\n",
       "    </tr>\n",
       "    <tr>\n",
       "      <th>2020-12-17</th>\n",
       "      <td>21.900000</td>\n",
       "      <td>9.08</td>\n",
       "      <td>43.480000</td>\n",
       "      <td>49.459999</td>\n",
       "      <td>128.699997</td>\n",
       "    </tr>\n",
       "    <tr>\n",
       "      <th>2020-12-18</th>\n",
       "      <td>21.740000</td>\n",
       "      <td>8.95</td>\n",
       "      <td>42.730000</td>\n",
       "      <td>48.610001</td>\n",
       "      <td>126.660004</td>\n",
       "    </tr>\n",
       "    <tr>\n",
       "      <th>2020-12-21</th>\n",
       "      <td>20.680000</td>\n",
       "      <td>8.93</td>\n",
       "      <td>41.950001</td>\n",
       "      <td>48.430000</td>\n",
       "      <td>128.229996</td>\n",
       "    </tr>\n",
       "    <tr>\n",
       "      <th>2020-12-22</th>\n",
       "      <td>20.480000</td>\n",
       "      <td>8.79</td>\n",
       "      <td>41.240002</td>\n",
       "      <td>47.970001</td>\n",
       "      <td>131.880005</td>\n",
       "    </tr>\n",
       "    <tr>\n",
       "      <th>2020-12-23</th>\n",
       "      <td>21.209999</td>\n",
       "      <td>8.99</td>\n",
       "      <td>41.770000</td>\n",
       "      <td>49.950001</td>\n",
       "      <td>130.960007</td>\n",
       "    </tr>\n",
       "    <tr>\n",
       "      <th>2020-12-24</th>\n",
       "      <td>21.059999</td>\n",
       "      <td>8.86</td>\n",
       "      <td>41.599998</td>\n",
       "      <td>49.740002</td>\n",
       "      <td>131.970001</td>\n",
       "    </tr>\n",
       "  </tbody>\n",
       "</table>\n",
       "</div>"
      ],
      "text/plain": [
       "                   BP     F        XOM        LNC        AAPL\n",
       "Date                                                         \n",
       "2020-12-11  22.030001  9.02  43.799999  51.330002  122.410004\n",
       "2020-12-14  21.360001  8.91  42.220001  50.049999  121.779999\n",
       "2020-12-15  21.940001  9.15  43.040001  50.360001  127.879997\n",
       "2020-12-16  21.830000  9.04  43.700001  50.240002  127.809998\n",
       "2020-12-17  21.900000  9.08  43.480000  49.459999  128.699997\n",
       "2020-12-18  21.740000  8.95  42.730000  48.610001  126.660004\n",
       "2020-12-21  20.680000  8.93  41.950001  48.430000  128.229996\n",
       "2020-12-22  20.480000  8.79  41.240002  47.970001  131.880005\n",
       "2020-12-23  21.209999  8.99  41.770000  49.950001  130.960007\n",
       "2020-12-24  21.059999  8.86  41.599998  49.740002  131.970001"
      ]
     },
     "execution_count": 7,
     "metadata": {},
     "output_type": "execute_result"
    }
   ],
   "source": [
    "my_data.tail(10)"
   ]
  },
  {
   "cell_type": "code",
   "execution_count": 8,
   "metadata": {},
   "outputs": [
    {
     "name": "stdout",
     "output_type": "stream",
     "text": [
      "<class 'pandas.core.frame.DataFrame'>\n",
      "DatetimeIndex: 5281 entries, 1999-12-31 to 2020-12-24\n",
      "Data columns (total 5 columns):\n",
      " #   Column  Non-Null Count  Dtype  \n",
      "---  ------  --------------  -----  \n",
      " 0   BP      5281 non-null   float64\n",
      " 1   F       5281 non-null   float64\n",
      " 2   XOM     5281 non-null   float64\n",
      " 3   LNC     5281 non-null   float64\n",
      " 4   AAPL    5281 non-null   float64\n",
      "dtypes: float64(5)\n",
      "memory usage: 247.5 KB\n"
     ]
    }
   ],
   "source": [
    "my_data.info()"
   ]
  },
  {
   "cell_type": "code",
   "execution_count": 9,
   "metadata": {},
   "outputs": [
    {
     "data": {
      "text/html": [
       "<div>\n",
       "<style scoped>\n",
       "    .dataframe tbody tr th:only-of-type {\n",
       "        vertical-align: middle;\n",
       "    }\n",
       "\n",
       "    .dataframe tbody tr th {\n",
       "        vertical-align: top;\n",
       "    }\n",
       "\n",
       "    .dataframe thead th {\n",
       "        text-align: right;\n",
       "    }\n",
       "</style>\n",
       "<table border=\"1\" class=\"dataframe\">\n",
       "  <thead>\n",
       "    <tr style=\"text-align: right;\">\n",
       "      <th></th>\n",
       "      <th>BP</th>\n",
       "      <th>F</th>\n",
       "      <th>XOM</th>\n",
       "      <th>LNC</th>\n",
       "      <th>AAPL</th>\n",
       "    </tr>\n",
       "    <tr>\n",
       "      <th>Date</th>\n",
       "      <th></th>\n",
       "      <th></th>\n",
       "      <th></th>\n",
       "      <th></th>\n",
       "      <th></th>\n",
       "    </tr>\n",
       "  </thead>\n",
       "  <tbody>\n",
       "    <tr>\n",
       "      <th>1999-12-31</th>\n",
       "      <td>22.191998</td>\n",
       "      <td>15.339188</td>\n",
       "      <td>21.492596</td>\n",
       "      <td>24.115664</td>\n",
       "      <td>0.791887</td>\n",
       "    </tr>\n",
       "    <tr>\n",
       "      <th>2000-01-03</th>\n",
       "      <td>22.004932</td>\n",
       "      <td>15.069453</td>\n",
       "      <td>20.892334</td>\n",
       "      <td>23.550459</td>\n",
       "      <td>0.862170</td>\n",
       "    </tr>\n",
       "    <tr>\n",
       "      <th>2000-01-04</th>\n",
       "      <td>21.888002</td>\n",
       "      <td>14.565937</td>\n",
       "      <td>20.492161</td>\n",
       "      <td>22.872194</td>\n",
       "      <td>0.789479</td>\n",
       "    </tr>\n",
       "    <tr>\n",
       "      <th>2000-01-05</th>\n",
       "      <td>22.636316</td>\n",
       "      <td>14.619884</td>\n",
       "      <td>21.609318</td>\n",
       "      <td>22.080902</td>\n",
       "      <td>0.801033</td>\n",
       "    </tr>\n",
       "    <tr>\n",
       "      <th>2000-01-06</th>\n",
       "      <td>22.683081</td>\n",
       "      <td>14.637873</td>\n",
       "      <td>22.726467</td>\n",
       "      <td>22.485029</td>\n",
       "      <td>0.731713</td>\n",
       "    </tr>\n",
       "    <tr>\n",
       "      <th>2000-01-07</th>\n",
       "      <td>22.262156</td>\n",
       "      <td>15.716831</td>\n",
       "      <td>22.659765</td>\n",
       "      <td>23.054750</td>\n",
       "      <td>0.766373</td>\n",
       "    </tr>\n",
       "    <tr>\n",
       "      <th>2000-01-10</th>\n",
       "      <td>21.607395</td>\n",
       "      <td>15.429108</td>\n",
       "      <td>22.342979</td>\n",
       "      <td>23.092733</td>\n",
       "      <td>0.752894</td>\n",
       "    </tr>\n",
       "    <tr>\n",
       "      <th>2000-01-11</th>\n",
       "      <td>21.607395</td>\n",
       "      <td>15.015507</td>\n",
       "      <td>22.409666</td>\n",
       "      <td>22.750900</td>\n",
       "      <td>0.714383</td>\n",
       "    </tr>\n",
       "    <tr>\n",
       "      <th>2000-01-12</th>\n",
       "      <td>21.163076</td>\n",
       "      <td>15.447089</td>\n",
       "      <td>22.276272</td>\n",
       "      <td>22.636963</td>\n",
       "      <td>0.671539</td>\n",
       "    </tr>\n",
       "    <tr>\n",
       "      <th>2000-01-13</th>\n",
       "      <td>21.467077</td>\n",
       "      <td>15.267263</td>\n",
       "      <td>22.793165</td>\n",
       "      <td>24.004286</td>\n",
       "      <td>0.745192</td>\n",
       "    </tr>\n",
       "  </tbody>\n",
       "</table>\n",
       "</div>"
      ],
      "text/plain": [
       "                   BP          F        XOM        LNC      AAPL\n",
       "Date                                                            \n",
       "1999-12-31  22.191998  15.339188  21.492596  24.115664  0.791887\n",
       "2000-01-03  22.004932  15.069453  20.892334  23.550459  0.862170\n",
       "2000-01-04  21.888002  14.565937  20.492161  22.872194  0.789479\n",
       "2000-01-05  22.636316  14.619884  21.609318  22.080902  0.801033\n",
       "2000-01-06  22.683081  14.637873  22.726467  22.485029  0.731713\n",
       "2000-01-07  22.262156  15.716831  22.659765  23.054750  0.766373\n",
       "2000-01-10  21.607395  15.429108  22.342979  23.092733  0.752894\n",
       "2000-01-11  21.607395  15.015507  22.409666  22.750900  0.714383\n",
       "2000-01-12  21.163076  15.447089  22.276272  22.636963  0.671539\n",
       "2000-01-13  21.467077  15.267263  22.793165  24.004286  0.745192"
      ]
     },
     "execution_count": 9,
     "metadata": {},
     "output_type": "execute_result"
    }
   ],
   "source": [
    "my_data.head(10)"
   ]
  },
  {
   "cell_type": "markdown",
   "metadata": {},
   "source": [
    "# normalization to 100"
   ]
  },
  {
   "cell_type": "markdown",
   "metadata": {},
   "source": [
    "# 𝑃𝑡/𝑃0∗100\n",
    "# Normalize to a hundred and plot the data on a graph (you can apply the .loc() or the .iloc() method)."
   ]
  },
  {
   "cell_type": "code",
   "execution_count": 27,
   "metadata": {},
   "outputs": [
    {
     "data": {
      "text/plain": [
       "BP      22.191998\n",
       "F       15.339188\n",
       "XOM     21.492596\n",
       "LNC     24.115664\n",
       "AAPL     0.791887\n",
       "Name: 1999-12-31 00:00:00, dtype: float64"
      ]
     },
     "execution_count": 27,
     "metadata": {},
     "output_type": "execute_result"
    }
   ],
   "source": [
    "my_data.iloc[0]"
   ]
  },
  {
   "cell_type": "markdown",
   "metadata": {},
   "source": [
    "## change for practise on iloc :https://www.shanelynn.ie/select-pandas-dataframe-rows-and-columns-using-iloc-loc-and-ix/"
   ]
  },
  {
   "cell_type": "markdown",
   "metadata": {},
   "source": [
    "## get the records "
   ]
  },
  {
   "cell_type": "code",
   "execution_count": 11,
   "metadata": {},
   "outputs": [
    {
     "data": {
      "text/plain": [
       "BP      22.191998\n",
       "F       15.339188\n",
       "XOM     21.492596\n",
       "LNC     24.115664\n",
       "AAPL     0.791887\n",
       "Name: 1999-12-31 00:00:00, dtype: float64"
      ]
     },
     "execution_count": 11,
     "metadata": {},
     "output_type": "execute_result"
    }
   ],
   "source": [
    "## first row of the data frame \n",
    "\n",
    "my_data.iloc[0]"
   ]
  },
  {
   "cell_type": "code",
   "execution_count": 12,
   "metadata": {},
   "outputs": [
    {
     "data": {
      "text/plain": [
       "BP      21.888002\n",
       "F       14.565937\n",
       "XOM     20.492161\n",
       "LNC     22.872194\n",
       "AAPL     0.789479\n",
       "Name: 2000-01-04 00:00:00, dtype: float64"
      ]
     },
     "execution_count": 12,
     "metadata": {},
     "output_type": "execute_result"
    }
   ],
   "source": [
    "## 3rd row of the data frame \n",
    "\n",
    "my_data.iloc[2]"
   ]
  },
  {
   "cell_type": "code",
   "execution_count": 13,
   "metadata": {},
   "outputs": [
    {
     "data": {
      "text/plain": [
       "BP       21.059999\n",
       "F         8.860000\n",
       "XOM      41.599998\n",
       "LNC      49.740002\n",
       "AAPL    131.970001\n",
       "Name: 2020-12-24 00:00:00, dtype: float64"
      ]
     },
     "execution_count": 13,
     "metadata": {},
     "output_type": "execute_result"
    }
   ],
   "source": [
    "#last row of the data \n",
    "\n",
    "my_data.iloc[-1]"
   ]
  },
  {
   "cell_type": "markdown",
   "metadata": {},
   "source": [
    "## get the columns "
   ]
  },
  {
   "cell_type": "code",
   "execution_count": 18,
   "metadata": {},
   "outputs": [
    {
     "data": {
      "text/plain": [
       "Date\n",
       "1999-12-31    22.191998\n",
       "2000-01-03    22.004932\n",
       "2000-01-04    21.888002\n",
       "2000-01-05    22.636316\n",
       "2000-01-06    22.683081\n",
       "                ...    \n",
       "2020-12-18    21.740000\n",
       "2020-12-21    20.680000\n",
       "2020-12-22    20.480000\n",
       "2020-12-23    21.209999\n",
       "2020-12-24    21.059999\n",
       "Name: BP, Length: 5281, dtype: float64"
      ]
     },
     "execution_count": 18,
     "metadata": {},
     "output_type": "execute_result"
    }
   ],
   "source": [
    "## get the first column\n",
    "\n",
    "my_data.iloc[:,0]"
   ]
  },
  {
   "cell_type": "code",
   "execution_count": 19,
   "metadata": {},
   "outputs": [
    {
     "data": {
      "text/plain": [
       "Date\n",
       "1999-12-31    21.492596\n",
       "2000-01-03    20.892334\n",
       "2000-01-04    20.492161\n",
       "2000-01-05    21.609318\n",
       "2000-01-06    22.726467\n",
       "                ...    \n",
       "2020-12-18    42.730000\n",
       "2020-12-21    41.950001\n",
       "2020-12-22    41.240002\n",
       "2020-12-23    41.770000\n",
       "2020-12-24    41.599998\n",
       "Name: XOM, Length: 5281, dtype: float64"
      ]
     },
     "execution_count": 19,
     "metadata": {},
     "output_type": "execute_result"
    }
   ],
   "source": [
    "## get the 3rd columns \n",
    "\n",
    "my_data.iloc[:,2]"
   ]
  },
  {
   "cell_type": "code",
   "execution_count": 21,
   "metadata": {},
   "outputs": [
    {
     "data": {
      "text/plain": [
       "Date\n",
       "1999-12-31      0.791887\n",
       "2000-01-03      0.862170\n",
       "2000-01-04      0.789479\n",
       "2000-01-05      0.801033\n",
       "2000-01-06      0.731713\n",
       "                 ...    \n",
       "2020-12-18    126.660004\n",
       "2020-12-21    128.229996\n",
       "2020-12-22    131.880005\n",
       "2020-12-23    130.960007\n",
       "2020-12-24    131.970001\n",
       "Name: AAPL, Length: 5281, dtype: float64"
      ]
     },
     "execution_count": 21,
     "metadata": {},
     "output_type": "execute_result"
    }
   ],
   "source": [
    "## last column of the data \n",
    "\n",
    "my_data.iloc[:,-1]"
   ]
  },
  {
   "cell_type": "markdown",
   "metadata": {},
   "source": [
    "# Multiple columns and rows can be selected together using the .iloc indexer"
   ]
  },
  {
   "cell_type": "code",
   "execution_count": 24,
   "metadata": {},
   "outputs": [
    {
     "data": {
      "text/html": [
       "<div>\n",
       "<style scoped>\n",
       "    .dataframe tbody tr th:only-of-type {\n",
       "        vertical-align: middle;\n",
       "    }\n",
       "\n",
       "    .dataframe tbody tr th {\n",
       "        vertical-align: top;\n",
       "    }\n",
       "\n",
       "    .dataframe thead th {\n",
       "        text-align: right;\n",
       "    }\n",
       "</style>\n",
       "<table border=\"1\" class=\"dataframe\">\n",
       "  <thead>\n",
       "    <tr style=\"text-align: right;\">\n",
       "      <th></th>\n",
       "      <th>BP</th>\n",
       "      <th>F</th>\n",
       "      <th>XOM</th>\n",
       "      <th>LNC</th>\n",
       "      <th>AAPL</th>\n",
       "    </tr>\n",
       "    <tr>\n",
       "      <th>Date</th>\n",
       "      <th></th>\n",
       "      <th></th>\n",
       "      <th></th>\n",
       "      <th></th>\n",
       "      <th></th>\n",
       "    </tr>\n",
       "  </thead>\n",
       "  <tbody>\n",
       "    <tr>\n",
       "      <th>1999-12-31</th>\n",
       "      <td>22.191998</td>\n",
       "      <td>15.339188</td>\n",
       "      <td>21.492596</td>\n",
       "      <td>24.115664</td>\n",
       "      <td>0.791887</td>\n",
       "    </tr>\n",
       "    <tr>\n",
       "      <th>2000-01-03</th>\n",
       "      <td>22.004932</td>\n",
       "      <td>15.069453</td>\n",
       "      <td>20.892334</td>\n",
       "      <td>23.550459</td>\n",
       "      <td>0.862170</td>\n",
       "    </tr>\n",
       "    <tr>\n",
       "      <th>2000-01-04</th>\n",
       "      <td>21.888002</td>\n",
       "      <td>14.565937</td>\n",
       "      <td>20.492161</td>\n",
       "      <td>22.872194</td>\n",
       "      <td>0.789479</td>\n",
       "    </tr>\n",
       "    <tr>\n",
       "      <th>2000-01-05</th>\n",
       "      <td>22.636316</td>\n",
       "      <td>14.619884</td>\n",
       "      <td>21.609318</td>\n",
       "      <td>22.080902</td>\n",
       "      <td>0.801033</td>\n",
       "    </tr>\n",
       "    <tr>\n",
       "      <th>2000-01-06</th>\n",
       "      <td>22.683081</td>\n",
       "      <td>14.637873</td>\n",
       "      <td>22.726467</td>\n",
       "      <td>22.485029</td>\n",
       "      <td>0.731713</td>\n",
       "    </tr>\n",
       "  </tbody>\n",
       "</table>\n",
       "</div>"
      ],
      "text/plain": [
       "                   BP          F        XOM        LNC      AAPL\n",
       "Date                                                            \n",
       "1999-12-31  22.191998  15.339188  21.492596  24.115664  0.791887\n",
       "2000-01-03  22.004932  15.069453  20.892334  23.550459  0.862170\n",
       "2000-01-04  21.888002  14.565937  20.492161  22.872194  0.789479\n",
       "2000-01-05  22.636316  14.619884  21.609318  22.080902  0.801033\n",
       "2000-01-06  22.683081  14.637873  22.726467  22.485029  0.731713"
      ]
     },
     "execution_count": 24,
     "metadata": {},
     "output_type": "execute_result"
    }
   ],
   "source": [
    "## first five records of the dataframe \n",
    "my_data.iloc[0:5]"
   ]
  },
  {
   "cell_type": "code",
   "execution_count": 25,
   "metadata": {},
   "outputs": [
    {
     "data": {
      "text/html": [
       "<div>\n",
       "<style scoped>\n",
       "    .dataframe tbody tr th:only-of-type {\n",
       "        vertical-align: middle;\n",
       "    }\n",
       "\n",
       "    .dataframe tbody tr th {\n",
       "        vertical-align: top;\n",
       "    }\n",
       "\n",
       "    .dataframe thead th {\n",
       "        text-align: right;\n",
       "    }\n",
       "</style>\n",
       "<table border=\"1\" class=\"dataframe\">\n",
       "  <thead>\n",
       "    <tr style=\"text-align: right;\">\n",
       "      <th></th>\n",
       "      <th>BP</th>\n",
       "      <th>F</th>\n",
       "    </tr>\n",
       "    <tr>\n",
       "      <th>Date</th>\n",
       "      <th></th>\n",
       "      <th></th>\n",
       "    </tr>\n",
       "  </thead>\n",
       "  <tbody>\n",
       "    <tr>\n",
       "      <th>1999-12-31</th>\n",
       "      <td>22.191998</td>\n",
       "      <td>15.339188</td>\n",
       "    </tr>\n",
       "    <tr>\n",
       "      <th>2000-01-03</th>\n",
       "      <td>22.004932</td>\n",
       "      <td>15.069453</td>\n",
       "    </tr>\n",
       "    <tr>\n",
       "      <th>2000-01-04</th>\n",
       "      <td>21.888002</td>\n",
       "      <td>14.565937</td>\n",
       "    </tr>\n",
       "    <tr>\n",
       "      <th>2000-01-05</th>\n",
       "      <td>22.636316</td>\n",
       "      <td>14.619884</td>\n",
       "    </tr>\n",
       "    <tr>\n",
       "      <th>2000-01-06</th>\n",
       "      <td>22.683081</td>\n",
       "      <td>14.637873</td>\n",
       "    </tr>\n",
       "    <tr>\n",
       "      <th>...</th>\n",
       "      <td>...</td>\n",
       "      <td>...</td>\n",
       "    </tr>\n",
       "    <tr>\n",
       "      <th>2020-12-18</th>\n",
       "      <td>21.740000</td>\n",
       "      <td>8.950000</td>\n",
       "    </tr>\n",
       "    <tr>\n",
       "      <th>2020-12-21</th>\n",
       "      <td>20.680000</td>\n",
       "      <td>8.930000</td>\n",
       "    </tr>\n",
       "    <tr>\n",
       "      <th>2020-12-22</th>\n",
       "      <td>20.480000</td>\n",
       "      <td>8.790000</td>\n",
       "    </tr>\n",
       "    <tr>\n",
       "      <th>2020-12-23</th>\n",
       "      <td>21.209999</td>\n",
       "      <td>8.990000</td>\n",
       "    </tr>\n",
       "    <tr>\n",
       "      <th>2020-12-24</th>\n",
       "      <td>21.059999</td>\n",
       "      <td>8.860000</td>\n",
       "    </tr>\n",
       "  </tbody>\n",
       "</table>\n",
       "<p>5281 rows × 2 columns</p>\n",
       "</div>"
      ],
      "text/plain": [
       "                   BP          F\n",
       "Date                            \n",
       "1999-12-31  22.191998  15.339188\n",
       "2000-01-03  22.004932  15.069453\n",
       "2000-01-04  21.888002  14.565937\n",
       "2000-01-05  22.636316  14.619884\n",
       "2000-01-06  22.683081  14.637873\n",
       "...               ...        ...\n",
       "2020-12-18  21.740000   8.950000\n",
       "2020-12-21  20.680000   8.930000\n",
       "2020-12-22  20.480000   8.790000\n",
       "2020-12-23  21.209999   8.990000\n",
       "2020-12-24  21.059999   8.860000\n",
       "\n",
       "[5281 rows x 2 columns]"
      ]
     },
     "execution_count": 25,
     "metadata": {},
     "output_type": "execute_result"
    }
   ],
   "source": [
    "#  first two columns of data frame with all rows\n",
    "\n",
    "my_data.iloc[:,0:2]"
   ]
  },
  {
   "cell_type": "markdown",
   "metadata": {},
   "source": [
    "# 1st, 2nd+ 1st 4th5th columns. "
   ]
  },
  {
   "cell_type": "code",
   "execution_count": 27,
   "metadata": {},
   "outputs": [
    {
     "data": {
      "text/html": [
       "<div>\n",
       "<style scoped>\n",
       "    .dataframe tbody tr th:only-of-type {\n",
       "        vertical-align: middle;\n",
       "    }\n",
       "\n",
       "    .dataframe tbody tr th {\n",
       "        vertical-align: top;\n",
       "    }\n",
       "\n",
       "    .dataframe thead th {\n",
       "        text-align: right;\n",
       "    }\n",
       "</style>\n",
       "<table border=\"1\" class=\"dataframe\">\n",
       "  <thead>\n",
       "    <tr style=\"text-align: right;\">\n",
       "      <th></th>\n",
       "      <th>BP</th>\n",
       "      <th>F</th>\n",
       "      <th>XOM</th>\n",
       "      <th>LNC</th>\n",
       "      <th>AAPL</th>\n",
       "    </tr>\n",
       "    <tr>\n",
       "      <th>Date</th>\n",
       "      <th></th>\n",
       "      <th></th>\n",
       "      <th></th>\n",
       "      <th></th>\n",
       "      <th></th>\n",
       "    </tr>\n",
       "  </thead>\n",
       "  <tbody>\n",
       "    <tr>\n",
       "      <th>1999-12-31</th>\n",
       "      <td>22.191998</td>\n",
       "      <td>15.339188</td>\n",
       "      <td>21.492596</td>\n",
       "      <td>24.115664</td>\n",
       "      <td>0.791887</td>\n",
       "    </tr>\n",
       "    <tr>\n",
       "      <th>2000-01-03</th>\n",
       "      <td>22.004932</td>\n",
       "      <td>15.069453</td>\n",
       "      <td>20.892334</td>\n",
       "      <td>23.550459</td>\n",
       "      <td>0.862170</td>\n",
       "    </tr>\n",
       "    <tr>\n",
       "      <th>2000-01-04</th>\n",
       "      <td>21.888002</td>\n",
       "      <td>14.565937</td>\n",
       "      <td>20.492161</td>\n",
       "      <td>22.872194</td>\n",
       "      <td>0.789479</td>\n",
       "    </tr>\n",
       "    <tr>\n",
       "      <th>2000-01-05</th>\n",
       "      <td>22.636316</td>\n",
       "      <td>14.619884</td>\n",
       "      <td>21.609318</td>\n",
       "      <td>22.080902</td>\n",
       "      <td>0.801033</td>\n",
       "    </tr>\n",
       "  </tbody>\n",
       "</table>\n",
       "</div>"
      ],
      "text/plain": [
       "                   BP          F        XOM        LNC      AAPL\n",
       "Date                                                            \n",
       "1999-12-31  22.191998  15.339188  21.492596  24.115664  0.791887\n",
       "2000-01-03  22.004932  15.069453  20.892334  23.550459  0.862170\n",
       "2000-01-04  21.888002  14.565937  20.492161  22.872194  0.789479\n",
       "2000-01-05  22.636316  14.619884  21.609318  22.080902  0.801033"
      ]
     },
     "execution_count": 27,
     "metadata": {},
     "output_type": "execute_result"
    }
   ],
   "source": [
    "my_data.head(4)"
   ]
  },
  {
   "cell_type": "code",
   "execution_count": 29,
   "metadata": {},
   "outputs": [
    {
     "data": {
      "text/html": [
       "<div>\n",
       "<style scoped>\n",
       "    .dataframe tbody tr th:only-of-type {\n",
       "        vertical-align: middle;\n",
       "    }\n",
       "\n",
       "    .dataframe tbody tr th {\n",
       "        vertical-align: top;\n",
       "    }\n",
       "\n",
       "    .dataframe thead th {\n",
       "        text-align: right;\n",
       "    }\n",
       "</style>\n",
       "<table border=\"1\" class=\"dataframe\">\n",
       "  <thead>\n",
       "    <tr style=\"text-align: right;\">\n",
       "      <th></th>\n",
       "      <th>BP</th>\n",
       "      <th>LNC</th>\n",
       "      <th>AAPL</th>\n",
       "    </tr>\n",
       "    <tr>\n",
       "      <th>Date</th>\n",
       "      <th></th>\n",
       "      <th></th>\n",
       "      <th></th>\n",
       "    </tr>\n",
       "  </thead>\n",
       "  <tbody>\n",
       "    <tr>\n",
       "      <th>1999-12-31</th>\n",
       "      <td>22.191998</td>\n",
       "      <td>24.115664</td>\n",
       "      <td>0.791887</td>\n",
       "    </tr>\n",
       "    <tr>\n",
       "      <th>2000-01-03</th>\n",
       "      <td>22.004932</td>\n",
       "      <td>23.550459</td>\n",
       "      <td>0.862170</td>\n",
       "    </tr>\n",
       "    <tr>\n",
       "      <th>2000-01-04</th>\n",
       "      <td>21.888002</td>\n",
       "      <td>22.872194</td>\n",
       "      <td>0.789479</td>\n",
       "    </tr>\n",
       "  </tbody>\n",
       "</table>\n",
       "</div>"
      ],
      "text/plain": [
       "                   BP        LNC      AAPL\n",
       "Date                                      \n",
       "1999-12-31  22.191998  24.115664  0.791887\n",
       "2000-01-03  22.004932  23.550459  0.862170\n",
       "2000-01-04  21.888002  22.872194  0.789479"
      ]
     },
     "execution_count": 29,
     "metadata": {},
     "output_type": "execute_result"
    }
   ],
   "source": [
    "my_data.iloc[[0,1,2],[0,3,4]]"
   ]
  },
  {
   "cell_type": "markdown",
   "metadata": {},
   "source": [
    "# first 5 rows of    2nd , 3rd  , 4th  columns of data frame"
   ]
  },
  {
   "cell_type": "code",
   "execution_count": 35,
   "metadata": {},
   "outputs": [
    {
     "data": {
      "text/html": [
       "<div>\n",
       "<style scoped>\n",
       "    .dataframe tbody tr th:only-of-type {\n",
       "        vertical-align: middle;\n",
       "    }\n",
       "\n",
       "    .dataframe tbody tr th {\n",
       "        vertical-align: top;\n",
       "    }\n",
       "\n",
       "    .dataframe thead th {\n",
       "        text-align: right;\n",
       "    }\n",
       "</style>\n",
       "<table border=\"1\" class=\"dataframe\">\n",
       "  <thead>\n",
       "    <tr style=\"text-align: right;\">\n",
       "      <th></th>\n",
       "      <th>F</th>\n",
       "      <th>XOM</th>\n",
       "      <th>LNC</th>\n",
       "    </tr>\n",
       "    <tr>\n",
       "      <th>Date</th>\n",
       "      <th></th>\n",
       "      <th></th>\n",
       "      <th></th>\n",
       "    </tr>\n",
       "  </thead>\n",
       "  <tbody>\n",
       "    <tr>\n",
       "      <th>1999-12-31</th>\n",
       "      <td>15.339188</td>\n",
       "      <td>21.492596</td>\n",
       "      <td>24.115664</td>\n",
       "    </tr>\n",
       "    <tr>\n",
       "      <th>2000-01-03</th>\n",
       "      <td>15.069453</td>\n",
       "      <td>20.892334</td>\n",
       "      <td>23.550459</td>\n",
       "    </tr>\n",
       "    <tr>\n",
       "      <th>2000-01-04</th>\n",
       "      <td>14.565937</td>\n",
       "      <td>20.492161</td>\n",
       "      <td>22.872194</td>\n",
       "    </tr>\n",
       "    <tr>\n",
       "      <th>2000-01-05</th>\n",
       "      <td>14.619884</td>\n",
       "      <td>21.609318</td>\n",
       "      <td>22.080902</td>\n",
       "    </tr>\n",
       "    <tr>\n",
       "      <th>2000-01-06</th>\n",
       "      <td>14.637873</td>\n",
       "      <td>22.726467</td>\n",
       "      <td>22.485029</td>\n",
       "    </tr>\n",
       "  </tbody>\n",
       "</table>\n",
       "</div>"
      ],
      "text/plain": [
       "                    F        XOM        LNC\n",
       "Date                                       \n",
       "1999-12-31  15.339188  21.492596  24.115664\n",
       "2000-01-03  15.069453  20.892334  23.550459\n",
       "2000-01-04  14.565937  20.492161  22.872194\n",
       "2000-01-05  14.619884  21.609318  22.080902\n",
       "2000-01-06  14.637873  22.726467  22.485029"
      ]
     },
     "execution_count": 35,
     "metadata": {},
     "output_type": "execute_result"
    }
   ],
   "source": [
    "my_data.iloc[0:5,1:4]"
   ]
  },
  {
   "cell_type": "markdown",
   "metadata": {},
   "source": [
    "## practise on iloc -- ended"
   ]
  },
  {
   "cell_type": "markdown",
   "metadata": {},
   "source": [
    "## normalize  to 100"
   ]
  },
  {
   "cell_type": "code",
   "execution_count": 45,
   "metadata": {},
   "outputs": [
    {
     "data": {
      "image/png": "[encoded data removed]",
      "text/plain": [
       "<Figure size 1296x576 with 1 Axes>"
      ]
     },
     "metadata": {
      "needs_background": "light"
     },
     "output_type": "display_data"
    }
   ],
   "source": [
    "(my_data / my_data.iloc[0] * 100).plot(figsize = (18, 8));\n",
    "plt.show()"
   ]
  },
  {
   "cell_type": "markdown",
   "metadata": {},
   "source": [
    "## we must say , AAPL is the stock owner  winner "
   ]
  },
  {
   "cell_type": "markdown",
   "metadata": {},
   "source": [
    "# How would you interpret the behavior of the stocks? \n",
    "# Just by looking at the chart, would you be able to create a portfolio that provides a solid return on investment? "
   ]
  },
  {
   "cell_type": "markdown",
   "metadata": {},
   "source": [
    "# Calculating the Return of a Portfolio of Securitie"
   ]
  },
  {
   "cell_type": "code",
   "execution_count": 47,
   "metadata": {},
   "outputs": [],
   "source": [
    "returns = (my_data/my_data.shift(1))-1"
   ]
  },
  {
   "cell_type": "code",
   "execution_count": 48,
   "metadata": {},
   "outputs": [
    {
     "data": {
      "text/html": [
       "<div>\n",
       "<style scoped>\n",
       "    .dataframe tbody tr th:only-of-type {\n",
       "        vertical-align: middle;\n",
       "    }\n",
       "\n",
       "    .dataframe tbody tr th {\n",
       "        vertical-align: top;\n",
       "    }\n",
       "\n",
       "    .dataframe thead th {\n",
       "        text-align: right;\n",
       "    }\n",
       "</style>\n",
       "<table border=\"1\" class=\"dataframe\">\n",
       "  <thead>\n",
       "    <tr style=\"text-align: right;\">\n",
       "      <th></th>\n",
       "      <th>BP</th>\n",
       "      <th>F</th>\n",
       "      <th>XOM</th>\n",
       "      <th>LNC</th>\n",
       "      <th>AAPL</th>\n",
       "    </tr>\n",
       "    <tr>\n",
       "      <th>Date</th>\n",
       "      <th></th>\n",
       "      <th></th>\n",
       "      <th></th>\n",
       "      <th></th>\n",
       "      <th></th>\n",
       "    </tr>\n",
       "  </thead>\n",
       "  <tbody>\n",
       "    <tr>\n",
       "      <th>1999-12-31</th>\n",
       "      <td>NaN</td>\n",
       "      <td>NaN</td>\n",
       "      <td>NaN</td>\n",
       "      <td>NaN</td>\n",
       "      <td>NaN</td>\n",
       "    </tr>\n",
       "    <tr>\n",
       "      <th>2000-01-03</th>\n",
       "      <td>-0.008429</td>\n",
       "      <td>-0.017585</td>\n",
       "      <td>-0.027929</td>\n",
       "      <td>-0.023437</td>\n",
       "      <td>0.088753</td>\n",
       "    </tr>\n",
       "    <tr>\n",
       "      <th>2000-01-04</th>\n",
       "      <td>-0.005314</td>\n",
       "      <td>-0.033413</td>\n",
       "      <td>-0.019154</td>\n",
       "      <td>-0.028800</td>\n",
       "      <td>-0.084311</td>\n",
       "    </tr>\n",
       "  </tbody>\n",
       "</table>\n",
       "</div>"
      ],
      "text/plain": [
       "                  BP         F       XOM       LNC      AAPL\n",
       "Date                                                        \n",
       "1999-12-31       NaN       NaN       NaN       NaN       NaN\n",
       "2000-01-03 -0.008429 -0.017585 -0.027929 -0.023437  0.088753\n",
       "2000-01-04 -0.005314 -0.033413 -0.019154 -0.028800 -0.084311"
      ]
     },
     "execution_count": 48,
     "metadata": {},
     "output_type": "execute_result"
    }
   ],
   "source": [
    "returns.head(3)"
   ]
  },
  {
   "cell_type": "code",
   "execution_count": 64,
   "metadata": {},
   "outputs": [],
   "source": [
    "weights = np.array([0.25, 0.25, 0.25, 0.25, 0.25])"
   ]
  },
  {
   "cell_type": "markdown",
   "metadata": {},
   "source": [
    "# Obtain the annual returns of each of the stocks and then calculate the dot product of these returns and the weights."
   ]
  },
  {
   "cell_type": "code",
   "execution_count": 65,
   "metadata": {},
   "outputs": [
    {
     "data": {
      "text/plain": [
       "(1, 2, (5281, 5), 26405)"
      ]
     },
     "execution_count": 65,
     "metadata": {},
     "output_type": "execute_result"
    }
   ],
   "source": [
    "weights.ndim , returns.ndim , returns.shape , returns.size"
   ]
  },
  {
   "cell_type": "code",
   "execution_count": 66,
   "metadata": {},
   "outputs": [
    {
     "data": {
      "text/plain": [
       "BP      0.042346\n",
       "F       0.061880\n",
       "XOM     0.064831\n",
       "LNC     0.180093\n",
       "AAPL    0.328117\n",
       "dtype: float64"
      ]
     },
     "execution_count": 66,
     "metadata": {},
     "output_type": "execute_result"
    }
   ],
   "source": [
    "annual_returns = returns.mean()*250\n",
    "annual_returns"
   ]
  },
  {
   "cell_type": "code",
   "execution_count": 67,
   "metadata": {},
   "outputs": [
    {
     "data": {
      "text/plain": [
       "0.1693167637974592"
      ]
     },
     "execution_count": 67,
     "metadata": {},
     "output_type": "execute_result"
    }
   ],
   "source": [
    "np.dot(annual_returns,weights)"
   ]
  },
  {
   "cell_type": "markdown",
   "metadata": {},
   "source": [
    "# Transform the result into a percentage form. "
   ]
  },
  {
   "cell_type": "code",
   "execution_count": 69,
   "metadata": {},
   "outputs": [],
   "source": [
    "p_folio_1 = str(round(np.dot(annual_returns,weights),5) * 100) + \"%\""
   ]
  },
  {
   "cell_type": "code",
   "execution_count": 70,
   "metadata": {},
   "outputs": [
    {
     "data": {
      "text/plain": [
       "'16.932%'"
      ]
     },
     "execution_count": 70,
     "metadata": {},
     "output_type": "execute_result"
    }
   ],
   "source": [
    "p_folio_1"
   ]
  },
  {
   "cell_type": "code",
   "execution_count": null,
   "metadata": {},
   "outputs": [],
   "source": []
  },
  {
   "cell_type": "code",
   "execution_count": null,
   "metadata": {},
   "outputs": [],
   "source": []
  },
  {
   "cell_type": "code",
   "execution_count": null,
   "metadata": {},
   "outputs": [],
   "source": []
  },
  {
   "cell_type": "code",
   "execution_count": null,
   "metadata": {},
   "outputs": [],
   "source": []
  },
  {
   "cell_type": "code",
   "execution_count": null,
   "metadata": {},
   "outputs": [],
   "source": []
  }
 ],
 "metadata": {
  "kernelspec": {
   "display_name": "Python 3",
   "language": "python",
   "name": "python3"
  },
  "language_info": {
   "codemirror_mode": {
    "name": "ipython",
    "version": 3
   },
   "file_extension": ".py",
   "mimetype": "text/x-python",
   "name": "python",
   "nbconvert_exporter": "python",
   "pygments_lexer": "ipython3",
   "version": "3.7.7"
  }
 },
 "nbformat": 4,
 "nbformat_minor": 4
}
