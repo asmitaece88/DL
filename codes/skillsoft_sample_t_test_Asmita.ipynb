{
 "cells": [
  {
   "cell_type": "code",
   "execution_count": 1,
   "metadata": {},
   "outputs": [],
   "source": [
    "# https://ibm.percipio.com/courses/d75e55a0-0f43-11e9-955f-dfb2ccb6c8a7/videos/f2832fe0-0f43-11e9-955f-dfb2ccb6c8a7 "
   ]
  },
  {
   "cell_type": "markdown",
   "metadata": {},
   "source": [
    "#  1 t test : ttest_1samp\n",
    "#  independent t test : ttest_ind\n",
    "#  paired t_test / relative t test : ttest_rel"
   ]
  },
  {
   "cell_type": "markdown",
   "metadata": {},
   "source": [
    "## import all the libraries "
   ]
  },
  {
   "cell_type": "code",
   "execution_count": 2,
   "metadata": {},
   "outputs": [],
   "source": [
    "import matplotlib.pyplot as plt\n",
    "import pandas as pd \n",
    "import numpy as np \n",
    "from scipy  import stats "
   ]
  },
  {
   "cell_type": "markdown",
   "metadata": {},
   "source": [
    "## load the data set "
   ]
  },
  {
   "cell_type": "code",
   "execution_count": 3,
   "metadata": {},
   "outputs": [],
   "source": [
    "age_data = pd.read_csv('datasets/age.csv')"
   ]
  },
  {
   "cell_type": "code",
   "execution_count": 4,
   "metadata": {},
   "outputs": [
    {
     "data": {
      "text/html": [
       "<div>\n",
       "<style scoped>\n",
       "    .dataframe tbody tr th:only-of-type {\n",
       "        vertical-align: middle;\n",
       "    }\n",
       "\n",
       "    .dataframe tbody tr th {\n",
       "        vertical-align: top;\n",
       "    }\n",
       "\n",
       "    .dataframe thead th {\n",
       "        text-align: right;\n",
       "    }\n",
       "</style>\n",
       "<table border=\"1\" class=\"dataframe\">\n",
       "  <thead>\n",
       "    <tr style=\"text-align: right;\">\n",
       "      <th></th>\n",
       "      <th>NAME</th>\n",
       "      <th>AGE</th>\n",
       "    </tr>\n",
       "  </thead>\n",
       "  <tbody>\n",
       "    <tr>\n",
       "      <th>0</th>\n",
       "      <td>Michael</td>\n",
       "      <td>23</td>\n",
       "    </tr>\n",
       "    <tr>\n",
       "      <th>1</th>\n",
       "      <td>Steve</td>\n",
       "      <td>45</td>\n",
       "    </tr>\n",
       "    <tr>\n",
       "      <th>2</th>\n",
       "      <td>Ryan</td>\n",
       "      <td>64</td>\n",
       "    </tr>\n",
       "    <tr>\n",
       "      <th>3</th>\n",
       "      <td>Vedh</td>\n",
       "      <td>13</td>\n",
       "    </tr>\n",
       "    <tr>\n",
       "      <th>4</th>\n",
       "      <td>Stella</td>\n",
       "      <td>43</td>\n",
       "    </tr>\n",
       "    <tr>\n",
       "      <th>5</th>\n",
       "      <td>Chris</td>\n",
       "      <td>42</td>\n",
       "    </tr>\n",
       "    <tr>\n",
       "      <th>6</th>\n",
       "      <td>Robert</td>\n",
       "      <td>14</td>\n",
       "    </tr>\n",
       "    <tr>\n",
       "      <th>7</th>\n",
       "      <td>Louis</td>\n",
       "      <td>22</td>\n",
       "    </tr>\n",
       "    <tr>\n",
       "      <th>8</th>\n",
       "      <td>Stevenson</td>\n",
       "      <td>27</td>\n",
       "    </tr>\n",
       "    <tr>\n",
       "      <th>9</th>\n",
       "      <td>Adams</td>\n",
       "      <td>36</td>\n",
       "    </tr>\n",
       "    <tr>\n",
       "      <th>10</th>\n",
       "      <td>Andrew</td>\n",
       "      <td>51</td>\n",
       "    </tr>\n",
       "    <tr>\n",
       "      <th>11</th>\n",
       "      <td>Bobby</td>\n",
       "      <td>58</td>\n",
       "    </tr>\n",
       "    <tr>\n",
       "      <th>12</th>\n",
       "      <td>David</td>\n",
       "      <td>39</td>\n",
       "    </tr>\n",
       "    <tr>\n",
       "      <th>13</th>\n",
       "      <td>Francis</td>\n",
       "      <td>50</td>\n",
       "    </tr>\n",
       "    <tr>\n",
       "      <th>14</th>\n",
       "      <td>George</td>\n",
       "      <td>44</td>\n",
       "    </tr>\n",
       "  </tbody>\n",
       "</table>\n",
       "</div>"
      ],
      "text/plain": [
       "         NAME  AGE\n",
       "0     Michael   23\n",
       "1       Steve   45\n",
       "2        Ryan   64\n",
       "3        Vedh   13\n",
       "4      Stella   43\n",
       "5       Chris   42\n",
       "6      Robert   14\n",
       "7       Louis   22\n",
       "8   Stevenson   27\n",
       "9       Adams   36\n",
       "10     Andrew   51\n",
       "11      Bobby   58\n",
       "12      David   39\n",
       "13    Francis   50\n",
       "14     George   44"
      ]
     },
     "execution_count": 4,
     "metadata": {},
     "output_type": "execute_result"
    }
   ],
   "source": [
    "age_data"
   ]
  },
  {
   "cell_type": "markdown",
   "metadata": {},
   "source": [
    "## we will  peform t test on age  column "
   ]
  },
  {
   "cell_type": "markdown",
   "metadata": {},
   "source": [
    "## first calculate the mean of the age column "
   ]
  },
  {
   "cell_type": "code",
   "execution_count": 5,
   "metadata": {},
   "outputs": [
    {
     "data": {
      "text/plain": [
       "38.06666666666667"
      ]
     },
     "execution_count": 5,
     "metadata": {},
     "output_type": "execute_result"
    }
   ],
   "source": [
    "(np.mean(age_data.AGE))"
   ]
  },
  {
   "cell_type": "markdown",
   "metadata": {},
   "source": [
    "## whenever we  , work with a sample of the  population , we  wish to compare a  sample with the population as whole"
   ]
  },
  {
   "cell_type": "markdown",
   "metadata": {},
   "source": [
    "## for our age , we wish to compare the  ages  of the  individual of the  sample, with the average age of the population, and see whether there is a ny statistical significant difference  between the two "
   ]
  },
  {
   "cell_type": "markdown",
   "metadata": {},
   "source": [
    "# Ho: there is no difference between the average of the samples and the mean of the  general population\n",
    "# H1:  average age of the sample does vary  from that of the general population"
   ]
  },
  {
   "cell_type": "markdown",
   "metadata": {},
   "source": [
    "## perform 1 test "
   ]
  },
  {
   "cell_type": "code",
   "execution_count": 6,
   "metadata": {},
   "outputs": [],
   "source": [
    "np.random.seed(34256) "
   ]
  },
  {
   "cell_type": "code",
   "execution_count": 7,
   "metadata": {},
   "outputs": [],
   "source": [
    "A = stats.ttest_1samp(age_data.AGE,38.067)"
   ]
  },
  {
   "cell_type": "code",
   "execution_count": 8,
   "metadata": {},
   "outputs": [
    {
     "data": {
      "text/plain": [
       "Ttest_1sampResult(statistic=-8.379682782738356e-05, pvalue=0.9999343221487609)"
      ]
     },
     "execution_count": 8,
     "metadata": {},
     "output_type": "execute_result"
    }
   ],
   "source": [
    "A"
   ]
  },
  {
   "cell_type": "markdown",
   "metadata": {},
   "source": [
    "## what we  get in return are 2 values \n",
    "## T stat  and the p value , T stat : how much the mean  of the sample , varies from the mean of the population\n",
    "## In our example ,  since we have contrived pop mean almost equal to sample mean , we get t statistics  value which is very very low\n",
    "## but this alone , does not convey this information we want , \n",
    "## what we want to know is whether the diff between sample avg age and pop mean  is statustically sig\n",
    "## for that , we need to take a look at the p value : \n",
    "## since p value is very high , greater than 0.05 , then we  accept null hypothesis \n"
   ]
  },
  {
   "cell_type": "markdown",
   "metadata": {},
   "source": [
    "## hence this shows , there is no difference between sample average and populational average "
   ]
  },
  {
   "cell_type": "markdown",
   "metadata": {},
   "source": [
    "## we now perfom 1 sample t test  once more , \n",
    "## say we find out that popmean : 45 , instead of 38 "
   ]
  },
  {
   "cell_type": "code",
   "execution_count": 9,
   "metadata": {},
   "outputs": [],
   "source": [
    "np.random.seed(34256) "
   ]
  },
  {
   "cell_type": "code",
   "execution_count": 10,
   "metadata": {},
   "outputs": [],
   "source": [
    "B = stats.ttest_1samp(age_data.AGE,45)"
   ]
  },
  {
   "cell_type": "code",
   "execution_count": 11,
   "metadata": {},
   "outputs": [
    {
     "data": {
      "text/plain": [
       "Ttest_1sampResult(statistic=-1.7429740188260239, pvalue=0.10324876450520698)"
      ]
     },
     "execution_count": 11,
     "metadata": {},
     "output_type": "execute_result"
    }
   ],
   "source": [
    "B"
   ]
  },
  {
   "cell_type": "markdown",
   "metadata": {},
   "source": [
    "## again , say , the popmean is found  out to be 50 "
   ]
  },
  {
   "cell_type": "code",
   "execution_count": 12,
   "metadata": {},
   "outputs": [
    {
     "data": {
      "text/plain": [
       "Ttest_1sampResult(statistic=-2.999926436248638, pvalue=0.009552905551034795)"
      ]
     },
     "execution_count": 12,
     "metadata": {},
     "output_type": "execute_result"
    }
   ],
   "source": [
    "C= stats.ttest_1samp(age_data.AGE,50)\n",
    "C"
   ]
  },
  {
   "cell_type": "markdown",
   "metadata": {},
   "source": [
    "## this means there is  1  % chance that mean of sample and mean of pop , are same \n",
    "## hence p , low null go , hence H1 is accepted "
   ]
  },
  {
   "cell_type": "markdown",
   "metadata": {},
   "source": [
    "## agaiun . lets try with another pop mean to be 36 "
   ]
  },
  {
   "cell_type": "code",
   "execution_count": 13,
   "metadata": {},
   "outputs": [
    {
     "data": {
      "text/plain": [
       "Ttest_1sampResult(statistic=0.5195403325346812, pvalue=0.611500165827717)"
      ]
     },
     "execution_count": 13,
     "metadata": {},
     "output_type": "execute_result"
    }
   ],
   "source": [
    "D = stats.ttest_1samp(age_data.AGE,36)\n",
    "D"
   ]
  },
  {
   "cell_type": "markdown",
   "metadata": {},
   "source": [
    "## now , let us plot all the te stats and pop mean "
   ]
  },
  {
   "cell_type": "code",
   "execution_count": 14,
   "metadata": {},
   "outputs": [],
   "source": [
    "n = [38.067  , 45 , 50 , 36]\n",
    "\n",
    "x=[A[0],B[0],C[0],D[0]]### this array consists of all the t stat values\n",
    "y=[A[1],B[1],C[1],D[1]]## this array consist of al the p values "
   ]
  },
  {
   "cell_type": "code",
   "execution_count": 15,
   "metadata": {},
   "outputs": [
    {
     "data": {
      "image/png": "[encoded data removed]",
      "text/plain": [
       "<Figure size 1296x360 with 1 Axes>"
      ]
     },
     "metadata": {
      "needs_background": "light"
     },
     "output_type": "display_data"
    }
   ],
   "source": [
    "## next plot the graph for t stat and p values \n",
    "\n",
    "fig , ax = plt.subplots(figsize=(18,5))\n",
    "ax.scatter(x,y,color='blue')\n",
    "\n",
    "for i , txt in enumerate(n):\n",
    "    ax.annotate(txt , (x[i],y[i]))\n",
    "\n",
    "plt.xlabel('T statistic')\n",
    "plt.ylabel('p value')\n",
    "\n",
    "plt.show()"
   ]
  },
  {
   "cell_type": "code",
   "execution_count": 16,
   "metadata": {},
   "outputs": [
    {
     "data": {
      "text/plain": [
       "<matplotlib.axes._subplots.AxesSubplot at 0x1c8ed5f6b88>"
      ]
     },
     "execution_count": 16,
     "metadata": {},
     "output_type": "execute_result"
    }
   ],
   "source": [
    "ax"
   ]
  },
  {
   "cell_type": "code",
   "execution_count": 17,
   "metadata": {},
   "outputs": [
    {
     "data": {
      "image/png": "[encoded data removed]",
      "text/plain": [
       "<Figure size 1296x360 with 1 Axes>"
      ]
     },
     "execution_count": 17,
     "metadata": {},
     "output_type": "execute_result"
    }
   ],
   "source": [
    "fig"
   ]
  },
  {
   "cell_type": "markdown",
   "metadata": {},
   "source": [
    "# Ideally, the t-statistic should be 0 and p-value should be 1. The dotted lines show this ideal range. We see that for a reference value equal to the mea, the T-statistic and P-values are almost ideal and lie at the intersection of the lines.\n",
    "\n",
    "# We can observe that as the reference point moves away from the mean,\n",
    "\n",
    "# probability is decreasing\n",
    "# T-statistic is increasing in magnitude. The sign depends on whether it is greater or lesser than the mean"
   ]
  },
  {
   "cell_type": "markdown",
   "metadata": {},
   "source": [
    "# Let's see what the t-statistic pattern looks like as we move away form the mean."
   ]
  },
  {
   "cell_type": "code",
   "execution_count": 46,
   "metadata": {},
   "outputs": [],
   "source": [
    "A=stats.ttest_1samp(age_data.AGE, 25)\n",
    "B=stats.ttest_1samp(age_data.AGE, 30)\n",
    "C=stats.ttest_1samp(age_data.AGE, 33)\n",
    "D=stats.ttest_1samp(age_data.AGE, 35)\n",
    "E=stats.ttest_1samp(age_data.AGE, 36)\n",
    "F=stats.ttest_1samp(age_data.AGE, 37.4)\n",
    "G=stats.ttest_1samp(age_data.AGE, 37.9)\n",
    "H=stats.ttest_1samp(age_data.AGE, 38)\n",
    "I=stats.ttest_1samp(age_data.AGE, 38.04)\n",
    "J=stats.ttest_1samp(age_data.AGE, 38.067)\n",
    "K=stats.ttest_1samp(age_data.AGE, 38.1)\n",
    "L=stats.ttest_1samp(age_data.AGE, 38.2)\n",
    "M=stats.ttest_1samp(age_data.AGE, 39)\n",
    "N=stats.ttest_1samp(age_data.AGE, 40)\n",
    "O=stats.ttest_1samp(age_data.AGE, 43)\n",
    "P=stats.ttest_1samp(age_data.AGE, 45)\n",
    "Q=stats.ttest_1samp(age_data.AGE, 49)\n",
    "R=stats.ttest_1samp(age_data.AGE, 50)"
   ]
  },
  {
   "cell_type": "code",
   "execution_count": 47,
   "metadata": {},
   "outputs": [
    {
     "data": {
      "text/plain": [
       "(Ttest_1sampResult(statistic=3.284835650864432, pvalue=0.005423480912840905),\n",
       " Ttest_1sampResult(statistic=-2.999926436248638, pvalue=0.009552905551034795))"
      ]
     },
     "execution_count": 47,
     "metadata": {},
     "output_type": "execute_result"
    }
   ],
   "source": [
    "A , R "
   ]
  },
  {
   "cell_type": "code",
   "execution_count": 48,
   "metadata": {},
   "outputs": [],
   "source": [
    "x= [A[0],B[0],C[0],D[0],E[0],F[0],G[0],H[0],I[0],J[0],K[0],L[0],M[0],N[0],O[0],P[0],Q[0],R[0]]\n",
    "y= [A[1],B[1],C[1],D[1],E[1],F[1],G[1],H[1],I[1],J[1],K[1],L[1],M[1],N[1],O[1],P[1],Q[1],R[1]]"
   ]
  },
  {
   "cell_type": "markdown",
   "metadata": {},
   "source": [
    "# next plot the t stat and p value "
   ]
  },
  {
   "cell_type": "markdown",
   "metadata": {},
   "source": [
    "##  poc on interpolation"
   ]
  },
  {
   "cell_type": "markdown",
   "metadata": {},
   "source": [
    "## start "
   ]
  },
  {
   "cell_type": "code",
   "execution_count": 42,
   "metadata": {},
   "outputs": [
    {
     "data": {
      "image/png": "[encoded data removed]",
      "text/plain": [
       "<Figure size 432x288 with 1 Axes>"
      ]
     },
     "metadata": {
      "needs_background": "light"
     },
     "output_type": "display_data"
    }
   ],
   "source": [
    "import matplotlib.pyplot as plt\n",
    "from scipy import interpolate\n",
    "x1 = np.arange(0, 10)\n",
    "y1 = np.exp(-x/3.0)\n",
    "f = interpolate.interp1d(x1, y1, kind=\"quadratic\")\n",
    "plt.plot(x1,y1)\n",
    "\n",
    "\n",
    "xnew = np.arange(0, 9, 0.1)\n",
    "ynew = f(xnew)   # use interpolation function returned by `interp1d`\n",
    "plt.plot(x1, y1, 'o', xnew, ynew, '-')\n",
    "plt.show()"
   ]
  },
  {
   "cell_type": "markdown",
   "metadata": {},
   "source": [
    "# stop"
   ]
  },
  {
   "cell_type": "code",
   "execution_count": 45,
   "metadata": {},
   "outputs": [],
   "source": [
    "from scipy.interpolate import interp1d"
   ]
  },
  {
   "cell_type": "markdown",
   "metadata": {},
   "source": [
    "##  plot the t stat and p value "
   ]
  },
  {
   "cell_type": "code",
   "execution_count": 59,
   "metadata": {},
   "outputs": [
    {
     "data": {
      "image/png": "[encoded data removed]",
      "text/plain": [
       "<Figure size 864x432 with 1 Axes>"
      ]
     },
     "metadata": {
      "needs_background": "light"
     },
     "output_type": "display_data"
    }
   ],
   "source": [
    "fig, ax = plt.subplots(figsize=(12, 6))\n",
    "f = interp1d(x,y,kind= \"linear\")\n",
    "plt.plot(x,f(x))\n",
    "#plt.plot(x,y)\n",
    "ax.scatter(x,y,color=\"black\")\n",
    "\n",
    "plt.xlabel(\"T-statistic\")\n",
    "plt.ylabel(\"Probability\")\n",
    "\n",
    "plt.show()\n"
   ]
  },
  {
   "cell_type": "markdown",
   "metadata": {},
   "source": [
    "## there wil be several scenarios , where you will need to compare the need to compare 2  inpendent samples"
   ]
  },
  {
   "cell_type": "markdown",
   "metadata": {},
   "source": [
    "## next , consider a use case , where a pharmaceutical  wants to evaluate , the efficacy of a drug , they hope will improve\n",
    "## student's test scores , \n",
    "\n",
    "## in this case , we can create 2  sets  of students , \n",
    "## -- one set will be given actual drug , -- another set of students will be given a   placebo \n",
    "## the student scores are measured , before they take a  drug , and then afterwards as well \n",
    "## they will then calculate the difference in test scores , for all the participants \n",
    "## and then create 2  samples  containing these differences  in test scores \n",
    "## one  for the group , which took placebo , and another for the group which took the real medicine \n",
    "## the question  at this point is : is there a  difference  between the 2  samples,\n",
    "## if so , is it statistically significant ?\n",
    "\n",
    "## for that purpose , we  use INPEDENDENT t test "
   ]
  },
  {
   "cell_type": "code",
   "execution_count": 63,
   "metadata": {},
   "outputs": [
    {
     "data": {
      "text/plain": [
       "Ttest_indResult(statistic=-0.052338960455318204, pvalue=0.9595419299298473)"
      ]
     },
     "execution_count": 63,
     "metadata": {},
     "output_type": "execute_result"
    }
   ],
   "source": [
    "## assume , here y1 is the test scores of the people , who took placebo ,\n",
    "## assume , here y2 , is the list of tets scores of the people , whoo took real medicines\n",
    "\n",
    "y1= [2,3,5,7,11]\n",
    "y2=[1,3.2,5.6,7.8,11.02]\n",
    "\n",
    "stats.ttest_ind(y1,y2)"
   ]
  },
  {
   "cell_type": "markdown",
   "metadata": {},
   "source": [
    "## so p value around 95% means , the means are not dissimilar , hence we reject H1\n",
    "## accept H0 \n",
    "## hence the effect of  the shots , and no shots , are  same \n",
    "## hnece the shots are of no use "
   ]
  },
  {
   "cell_type": "markdown",
   "metadata": {},
   "source": [
    "## now , what if  we  did not have the luxury of  giving one ste of students , real shots , put anther on fake shots"
   ]
  },
  {
   "cell_type": "markdown",
   "metadata": {},
   "source": [
    "# assume , we only have 1  group  of participants , we measure their performance , on a test , give them the real pill\n",
    "## and then test them again "
   ]
  },
  {
   "cell_type": "markdown",
   "metadata": {},
   "source": [
    "y3= [2,3,4,5,6,7,9]\n",
    "y4=[2.3,4.5,5.0,5.66,7.8,8.34]\n",
    "\n",
    "## consider y3  : represets the test scores , before the shots were given \n",
    "## y4 : represents the test scores  aftre the shots were given "
   ]
  },
  {
   "cell_type": "code",
   "execution_count": 68,
   "metadata": {},
   "outputs": [],
   "source": [
    "y3= [2,3,4,5,6,7,9]\n",
    "y4=[2.3,4.5,5.0,5.66,7.8,8.34,9]"
   ]
  },
  {
   "cell_type": "code",
   "execution_count": 69,
   "metadata": {},
   "outputs": [
    {
     "data": {
      "text/plain": [
       "Ttest_relResult(statistic=-3.798040916107129, pvalue=0.008988376787419573)"
      ]
     },
     "execution_count": 69,
     "metadata": {},
     "output_type": "execute_result"
    }
   ],
   "source": [
    "stats.ttest_rel(y3,y4)"
   ]
  },
  {
   "cell_type": "markdown",
   "metadata": {},
   "source": [
    "## here , it means , the pill has statistical significanec , that is mean of sample , aftre the shots ,  is different  from mean of the sample before the shots  since p value < 0.05\n"
   ]
  },
  {
   "cell_type": "code",
   "execution_count": null,
   "metadata": {},
   "outputs": [],
   "source": [
    "##  but , then to look at the effect , whether the  test scores impact is  positive or negative \n",
    "## take a look at the test statistic value or t score \n",
    "\n",
    "## positive value indicates "
   ]
  },
  {
   "cell_type": "markdown",
   "metadata": {},
   "source": [
    "## so we can feed to this two related samples  which we have and you ll notice , that  they both contain \n",
    "## same values  but in different order\n",
    "## when we perfor, the t test on the below samples , we get t stats value of 0 , and p value 1 which suggests\n",
    "##  that the 2  samples  are  pretty much , the same "
   ]
  },
  {
   "cell_type": "code",
   "execution_count": 70,
   "metadata": {},
   "outputs": [],
   "source": [
    "y5= [2,3,4,5,6,7,9]\n",
    "y6=[9,6,5,4,3,2,7]"
   ]
  },
  {
   "cell_type": "code",
   "execution_count": 71,
   "metadata": {},
   "outputs": [
    {
     "data": {
      "text/plain": [
       "Ttest_relResult(statistic=0.0, pvalue=1.0)"
      ]
     },
     "execution_count": 71,
     "metadata": {},
     "output_type": "execute_result"
    }
   ],
   "source": [
    "stats.ttest_rel(y5,y6)"
   ]
  },
  {
   "cell_type": "code",
   "execution_count": 73,
   "metadata": {},
   "outputs": [
    {
     "name": "stderr",
     "output_type": "stream",
     "text": [
      "C:\\Anacon\\envs\\tf-gpu\\lib\\site-packages\\scipy\\stats\\_distn_infrastructure.py:903: RuntimeWarning: invalid value encountered in greater\n",
      "  return (a < x) & (x < b)\n",
      "C:\\Anacon\\envs\\tf-gpu\\lib\\site-packages\\scipy\\stats\\_distn_infrastructure.py:903: RuntimeWarning: invalid value encountered in less\n",
      "  return (a < x) & (x < b)\n",
      "C:\\Anacon\\envs\\tf-gpu\\lib\\site-packages\\scipy\\stats\\_distn_infrastructure.py:1912: RuntimeWarning: invalid value encountered in less_equal\n",
      "  cond2 = cond0 & (x <= _a)\n"
     ]
    },
    {
     "data": {
      "text/plain": [
       "Ttest_relResult(statistic=nan, pvalue=nan)"
      ]
     },
     "execution_count": 73,
     "metadata": {},
     "output_type": "execute_result"
    }
   ],
   "source": [
    "## however , if we end up using the same order\n",
    "\n",
    "y7 = [2,3,4,5,6,7,9]\n",
    "y8=[2,3,4,5,6,7,9]\n",
    "\n",
    "stats.ttest_rel(y7,y8)"
   ]
  },
  {
   "cell_type": "markdown",
   "metadata": {},
   "source": [
    "## for a relative t test ,  positive t test mean , test scores were higher  before they took the shots \n",
    "## so it had statisticaly significant test score , but perhaps not in the direction intended"
   ]
  },
  {
   "cell_type": "markdown",
   "metadata": {},
   "source": [
    "## howevere , for relative t test , if T score is negative , and p value < 0.05 , the  this involves test scores are higher aftre \n",
    "## taking shots "
   ]
  },
  {
   "cell_type": "markdown",
   "metadata": {},
   "source": [
    "## now , consider , you have a third case of students , who neither took the pill nor consumed the placembo"
   ]
  },
  {
   "cell_type": "markdown",
   "metadata": {},
   "source": [
    "## in that case , we need to perform not one , but a number of t tests  for each  pair of samples "
   ]
  },
  {
   "cell_type": "markdown",
   "metadata": {},
   "source": [
    "## then there is a very high likelihood , of committing a type 1 error . "
   ]
  },
  {
   "cell_type": "markdown",
   "metadata": {},
   "source": [
    "## to  counter this , what we needed , was a 1  way anova test "
   ]
  },
  {
   "cell_type": "markdown",
   "metadata": {},
   "source": [
    "## F test coming up shortly "
   ]
  },
  {
   "cell_type": "code",
   "execution_count": null,
   "metadata": {},
   "outputs": [],
   "source": []
  },
  {
   "cell_type": "code",
   "execution_count": null,
   "metadata": {},
   "outputs": [],
   "source": []
  },
  {
   "cell_type": "code",
   "execution_count": null,
   "metadata": {},
   "outputs": [],
   "source": []
  },
  {
   "cell_type": "code",
   "execution_count": null,
   "metadata": {},
   "outputs": [],
   "source": []
  },
  {
   "cell_type": "code",
   "execution_count": null,
   "metadata": {},
   "outputs": [],
   "source": []
  },
  {
   "cell_type": "markdown",
   "metadata": {},
   "source": [
    "## Testng hypothesis  with t test "
   ]
  },
  {
   "cell_type": "raw",
   "metadata": {},
   "source": [
    "In this example, we have data on salaries of employees in IT based on their years of experience, their education level and whether or not they are management.\n",
    "\n",
    "Outcome: S, salaries for IT staff in a corporation.\n",
    "\n",
    "Predictors:\n",
    "    X, experience (years)\n",
    "    E, education (1=Bachelor’s, 2=Master’s, 3=Ph.D)\n",
    "    M, management (1=management, 0=not management)"
   ]
  },
  {
   "cell_type": "code",
   "execution_count": 74,
   "metadata": {},
   "outputs": [],
   "source": [
    "url = 'http://stats191.stanford.edu/data/salary.table'"
   ]
  },
  {
   "cell_type": "code",
   "execution_count": 78,
   "metadata": {},
   "outputs": [],
   "source": [
    "salary_data = pd.read_table(url,sep='\\t')"
   ]
  },
  {
   "cell_type": "code",
   "execution_count": 79,
   "metadata": {},
   "outputs": [
    {
     "data": {
      "text/plain": [
       "(        S   X  E  M\n",
       " 0   13876   1  1  1\n",
       " 1   11608   1  3  0\n",
       " 2   18701   1  3  1\n",
       " 3   11283   1  2  0\n",
       " 4   11767   1  3  0\n",
       " 5   20872   2  2  1\n",
       " 6   11772   2  2  0\n",
       " 7   10535   2  1  0\n",
       " 8   12195   2  3  0\n",
       " 9   12313   3  2  0\n",
       " 10  14975   3  1  1\n",
       " 11  21371   3  2  1\n",
       " 12  19800   3  3  1\n",
       " 13  11417   4  1  0\n",
       " 14  20263   4  3  1\n",
       " 15  13231   4  3  0\n",
       " 16  12884   4  2  0\n",
       " 17  13245   5  2  0\n",
       " 18  13677   5  3  0\n",
       " 19  15965   5  1  1\n",
       " 20  12336   6  1  0\n",
       " 21  21352   6  3  1\n",
       " 22  13839   6  2  0\n",
       " 23  22884   6  2  1\n",
       " 24  16978   7  1  1\n",
       " 25  14803   8  2  0\n",
       " 26  17404   8  1  1\n",
       " 27  22184   8  3  1\n",
       " 28  13548   8  1  0\n",
       " 29  14467  10  1  0\n",
       " 30  15942  10  2  0\n",
       " 31  23174  10  3  1\n",
       " 32  23780  10  2  1\n",
       " 33  25410  11  2  1\n",
       " 34  14861  11  1  0\n",
       " 35  16882  12  2  0\n",
       " 36  24170  12  3  1\n",
       " 37  15990  13  1  0\n",
       " 38  26330  13  2  1\n",
       " 39  17949  14  2  0\n",
       " 40  25685  15  3  1\n",
       " 41  27837  16  2  1\n",
       " 42  18838  16  2  0\n",
       " 43  17483  16  1  0\n",
       " 44  19207  17  2  0\n",
       " 45  19346  20  1  0,\n",
       " pandas.core.frame.DataFrame)"
      ]
     },
     "execution_count": 79,
     "metadata": {},
     "output_type": "execute_result"
    }
   ],
   "source": [
    "salary_data , type(salary_data)"
   ]
  },
  {
   "cell_type": "markdown",
   "metadata": {},
   "source": [
    "# For this demo, we will consider the salary and experience aspects, and whether they belong to the management category. \n",
    "# We will do away with the educational qualification for the purposes of this demo."
   ]
  },
  {
   "cell_type": "markdown",
   "metadata": {},
   "source": [
    "### need to find out , whether  salary exerience have any effect on the managment category"
   ]
  },
  {
   "cell_type": "markdown",
   "metadata": {},
   "source": [
    "# before we start performing any t tests , we will plot the distributions \n",
    "## of salaries for those employees , who are part  of management and those , who are not \n",
    "## we will use a boxplot , in order to visualize the distribution"
   ]
  },
  {
   "cell_type": "code",
   "execution_count": 82,
   "metadata": {},
   "outputs": [
    {
     "data": {
      "image/png": "[encoded data removed]",
      "text/plain": [
       "<Figure size 432x288 with 1 Axes>"
      ]
     },
     "metadata": {
      "needs_background": "light"
     },
     "output_type": "display_data"
    }
   ],
   "source": [
    "salary_data.boxplot(column=['S'],by='M')### by denotes , we need different box plot based on column S , based  on differnt vaus of N\n",
    "plt.show()"
   ]
  },
  {
   "cell_type": "markdown",
   "metadata": {},
   "source": [
    "## what we see here is , the management employees , need to have higher salaries than reguar employees"
   ]
  },
  {
   "cell_type": "markdown",
   "metadata": {},
   "source": [
    "## above the horizontal lines in the boxes , indicate the median values for each distribution\n",
    "## and these values do seem  rather far apart \n",
    "## we can assume the mean salary values  of each of these groups ,  is also quite different \n",
    "## however ,  but we need to understand , whether the difference of the salaries of both the classes ( managment and non management ) , are  statistically different or not \n",
    "##  That is , is it merely a chance  that management of employees  in our sample , seem \n",
    "## to have higher salary than non managment employee?\n"
   ]
  },
  {
   "cell_type": "markdown",
   "metadata": {},
   "source": [
    "## this is precisly why we need to perform a t test "
   ]
  },
  {
   "cell_type": "markdown",
   "metadata": {},
   "source": [
    "## to perform t test , we need  2 samples of data , we split the data set "
   ]
  },
  {
   "cell_type": "code",
   "execution_count": 85,
   "metadata": {},
   "outputs": [
    {
     "data": {
      "text/html": [
       "<div>\n",
       "<style scoped>\n",
       "    .dataframe tbody tr th:only-of-type {\n",
       "        vertical-align: middle;\n",
       "    }\n",
       "\n",
       "    .dataframe tbody tr th {\n",
       "        vertical-align: top;\n",
       "    }\n",
       "\n",
       "    .dataframe thead th {\n",
       "        text-align: right;\n",
       "    }\n",
       "</style>\n",
       "<table border=\"1\" class=\"dataframe\">\n",
       "  <thead>\n",
       "    <tr style=\"text-align: right;\">\n",
       "      <th></th>\n",
       "      <th>S</th>\n",
       "      <th>X</th>\n",
       "      <th>E</th>\n",
       "      <th>M</th>\n",
       "    </tr>\n",
       "  </thead>\n",
       "  <tbody>\n",
       "    <tr>\n",
       "      <th>1</th>\n",
       "      <td>11608</td>\n",
       "      <td>1</td>\n",
       "      <td>3</td>\n",
       "      <td>0</td>\n",
       "    </tr>\n",
       "    <tr>\n",
       "      <th>3</th>\n",
       "      <td>11283</td>\n",
       "      <td>1</td>\n",
       "      <td>2</td>\n",
       "      <td>0</td>\n",
       "    </tr>\n",
       "    <tr>\n",
       "      <th>4</th>\n",
       "      <td>11767</td>\n",
       "      <td>1</td>\n",
       "      <td>3</td>\n",
       "      <td>0</td>\n",
       "    </tr>\n",
       "    <tr>\n",
       "      <th>6</th>\n",
       "      <td>11772</td>\n",
       "      <td>2</td>\n",
       "      <td>2</td>\n",
       "      <td>0</td>\n",
       "    </tr>\n",
       "    <tr>\n",
       "      <th>7</th>\n",
       "      <td>10535</td>\n",
       "      <td>2</td>\n",
       "      <td>1</td>\n",
       "      <td>0</td>\n",
       "    </tr>\n",
       "    <tr>\n",
       "      <th>8</th>\n",
       "      <td>12195</td>\n",
       "      <td>2</td>\n",
       "      <td>3</td>\n",
       "      <td>0</td>\n",
       "    </tr>\n",
       "    <tr>\n",
       "      <th>9</th>\n",
       "      <td>12313</td>\n",
       "      <td>3</td>\n",
       "      <td>2</td>\n",
       "      <td>0</td>\n",
       "    </tr>\n",
       "    <tr>\n",
       "      <th>13</th>\n",
       "      <td>11417</td>\n",
       "      <td>4</td>\n",
       "      <td>1</td>\n",
       "      <td>0</td>\n",
       "    </tr>\n",
       "    <tr>\n",
       "      <th>15</th>\n",
       "      <td>13231</td>\n",
       "      <td>4</td>\n",
       "      <td>3</td>\n",
       "      <td>0</td>\n",
       "    </tr>\n",
       "    <tr>\n",
       "      <th>16</th>\n",
       "      <td>12884</td>\n",
       "      <td>4</td>\n",
       "      <td>2</td>\n",
       "      <td>0</td>\n",
       "    </tr>\n",
       "    <tr>\n",
       "      <th>17</th>\n",
       "      <td>13245</td>\n",
       "      <td>5</td>\n",
       "      <td>2</td>\n",
       "      <td>0</td>\n",
       "    </tr>\n",
       "    <tr>\n",
       "      <th>18</th>\n",
       "      <td>13677</td>\n",
       "      <td>5</td>\n",
       "      <td>3</td>\n",
       "      <td>0</td>\n",
       "    </tr>\n",
       "    <tr>\n",
       "      <th>20</th>\n",
       "      <td>12336</td>\n",
       "      <td>6</td>\n",
       "      <td>1</td>\n",
       "      <td>0</td>\n",
       "    </tr>\n",
       "    <tr>\n",
       "      <th>22</th>\n",
       "      <td>13839</td>\n",
       "      <td>6</td>\n",
       "      <td>2</td>\n",
       "      <td>0</td>\n",
       "    </tr>\n",
       "    <tr>\n",
       "      <th>25</th>\n",
       "      <td>14803</td>\n",
       "      <td>8</td>\n",
       "      <td>2</td>\n",
       "      <td>0</td>\n",
       "    </tr>\n",
       "    <tr>\n",
       "      <th>28</th>\n",
       "      <td>13548</td>\n",
       "      <td>8</td>\n",
       "      <td>1</td>\n",
       "      <td>0</td>\n",
       "    </tr>\n",
       "    <tr>\n",
       "      <th>29</th>\n",
       "      <td>14467</td>\n",
       "      <td>10</td>\n",
       "      <td>1</td>\n",
       "      <td>0</td>\n",
       "    </tr>\n",
       "    <tr>\n",
       "      <th>30</th>\n",
       "      <td>15942</td>\n",
       "      <td>10</td>\n",
       "      <td>2</td>\n",
       "      <td>0</td>\n",
       "    </tr>\n",
       "    <tr>\n",
       "      <th>34</th>\n",
       "      <td>14861</td>\n",
       "      <td>11</td>\n",
       "      <td>1</td>\n",
       "      <td>0</td>\n",
       "    </tr>\n",
       "    <tr>\n",
       "      <th>35</th>\n",
       "      <td>16882</td>\n",
       "      <td>12</td>\n",
       "      <td>2</td>\n",
       "      <td>0</td>\n",
       "    </tr>\n",
       "    <tr>\n",
       "      <th>37</th>\n",
       "      <td>15990</td>\n",
       "      <td>13</td>\n",
       "      <td>1</td>\n",
       "      <td>0</td>\n",
       "    </tr>\n",
       "    <tr>\n",
       "      <th>39</th>\n",
       "      <td>17949</td>\n",
       "      <td>14</td>\n",
       "      <td>2</td>\n",
       "      <td>0</td>\n",
       "    </tr>\n",
       "    <tr>\n",
       "      <th>42</th>\n",
       "      <td>18838</td>\n",
       "      <td>16</td>\n",
       "      <td>2</td>\n",
       "      <td>0</td>\n",
       "    </tr>\n",
       "    <tr>\n",
       "      <th>43</th>\n",
       "      <td>17483</td>\n",
       "      <td>16</td>\n",
       "      <td>1</td>\n",
       "      <td>0</td>\n",
       "    </tr>\n",
       "    <tr>\n",
       "      <th>44</th>\n",
       "      <td>19207</td>\n",
       "      <td>17</td>\n",
       "      <td>2</td>\n",
       "      <td>0</td>\n",
       "    </tr>\n",
       "    <tr>\n",
       "      <th>45</th>\n",
       "      <td>19346</td>\n",
       "      <td>20</td>\n",
       "      <td>1</td>\n",
       "      <td>0</td>\n",
       "    </tr>\n",
       "  </tbody>\n",
       "</table>\n",
       "</div>"
      ],
      "text/plain": [
       "        S   X  E  M\n",
       "1   11608   1  3  0\n",
       "3   11283   1  2  0\n",
       "4   11767   1  3  0\n",
       "6   11772   2  2  0\n",
       "7   10535   2  1  0\n",
       "8   12195   2  3  0\n",
       "9   12313   3  2  0\n",
       "13  11417   4  1  0\n",
       "15  13231   4  3  0\n",
       "16  12884   4  2  0\n",
       "17  13245   5  2  0\n",
       "18  13677   5  3  0\n",
       "20  12336   6  1  0\n",
       "22  13839   6  2  0\n",
       "25  14803   8  2  0\n",
       "28  13548   8  1  0\n",
       "29  14467  10  1  0\n",
       "30  15942  10  2  0\n",
       "34  14861  11  1  0\n",
       "35  16882  12  2  0\n",
       "37  15990  13  1  0\n",
       "39  17949  14  2  0\n",
       "42  18838  16  2  0\n",
       "43  17483  16  1  0\n",
       "44  19207  17  2  0\n",
       "45  19346  20  1  0"
      ]
     },
     "execution_count": 85,
     "metadata": {},
     "output_type": "execute_result"
    }
   ],
   "source": [
    "management_yes = salary_data[salary_data['M']==1]\n",
    "management_no = salary_data[salary_data['M']==0]\n",
    "\n",
    "management_no"
   ]
  },
  {
   "cell_type": "code",
   "execution_count": 86,
   "metadata": {},
   "outputs": [
    {
     "data": {
      "text/html": [
       "<div>\n",
       "<style scoped>\n",
       "    .dataframe tbody tr th:only-of-type {\n",
       "        vertical-align: middle;\n",
       "    }\n",
       "\n",
       "    .dataframe tbody tr th {\n",
       "        vertical-align: top;\n",
       "    }\n",
       "\n",
       "    .dataframe thead th {\n",
       "        text-align: right;\n",
       "    }\n",
       "</style>\n",
       "<table border=\"1\" class=\"dataframe\">\n",
       "  <thead>\n",
       "    <tr style=\"text-align: right;\">\n",
       "      <th></th>\n",
       "      <th>S</th>\n",
       "      <th>X</th>\n",
       "      <th>E</th>\n",
       "      <th>M</th>\n",
       "    </tr>\n",
       "  </thead>\n",
       "  <tbody>\n",
       "    <tr>\n",
       "      <th>0</th>\n",
       "      <td>13876</td>\n",
       "      <td>1</td>\n",
       "      <td>1</td>\n",
       "      <td>1</td>\n",
       "    </tr>\n",
       "    <tr>\n",
       "      <th>2</th>\n",
       "      <td>18701</td>\n",
       "      <td>1</td>\n",
       "      <td>3</td>\n",
       "      <td>1</td>\n",
       "    </tr>\n",
       "    <tr>\n",
       "      <th>5</th>\n",
       "      <td>20872</td>\n",
       "      <td>2</td>\n",
       "      <td>2</td>\n",
       "      <td>1</td>\n",
       "    </tr>\n",
       "    <tr>\n",
       "      <th>10</th>\n",
       "      <td>14975</td>\n",
       "      <td>3</td>\n",
       "      <td>1</td>\n",
       "      <td>1</td>\n",
       "    </tr>\n",
       "    <tr>\n",
       "      <th>11</th>\n",
       "      <td>21371</td>\n",
       "      <td>3</td>\n",
       "      <td>2</td>\n",
       "      <td>1</td>\n",
       "    </tr>\n",
       "    <tr>\n",
       "      <th>12</th>\n",
       "      <td>19800</td>\n",
       "      <td>3</td>\n",
       "      <td>3</td>\n",
       "      <td>1</td>\n",
       "    </tr>\n",
       "    <tr>\n",
       "      <th>14</th>\n",
       "      <td>20263</td>\n",
       "      <td>4</td>\n",
       "      <td>3</td>\n",
       "      <td>1</td>\n",
       "    </tr>\n",
       "    <tr>\n",
       "      <th>19</th>\n",
       "      <td>15965</td>\n",
       "      <td>5</td>\n",
       "      <td>1</td>\n",
       "      <td>1</td>\n",
       "    </tr>\n",
       "    <tr>\n",
       "      <th>21</th>\n",
       "      <td>21352</td>\n",
       "      <td>6</td>\n",
       "      <td>3</td>\n",
       "      <td>1</td>\n",
       "    </tr>\n",
       "    <tr>\n",
       "      <th>23</th>\n",
       "      <td>22884</td>\n",
       "      <td>6</td>\n",
       "      <td>2</td>\n",
       "      <td>1</td>\n",
       "    </tr>\n",
       "    <tr>\n",
       "      <th>24</th>\n",
       "      <td>16978</td>\n",
       "      <td>7</td>\n",
       "      <td>1</td>\n",
       "      <td>1</td>\n",
       "    </tr>\n",
       "    <tr>\n",
       "      <th>26</th>\n",
       "      <td>17404</td>\n",
       "      <td>8</td>\n",
       "      <td>1</td>\n",
       "      <td>1</td>\n",
       "    </tr>\n",
       "    <tr>\n",
       "      <th>27</th>\n",
       "      <td>22184</td>\n",
       "      <td>8</td>\n",
       "      <td>3</td>\n",
       "      <td>1</td>\n",
       "    </tr>\n",
       "    <tr>\n",
       "      <th>31</th>\n",
       "      <td>23174</td>\n",
       "      <td>10</td>\n",
       "      <td>3</td>\n",
       "      <td>1</td>\n",
       "    </tr>\n",
       "    <tr>\n",
       "      <th>32</th>\n",
       "      <td>23780</td>\n",
       "      <td>10</td>\n",
       "      <td>2</td>\n",
       "      <td>1</td>\n",
       "    </tr>\n",
       "    <tr>\n",
       "      <th>33</th>\n",
       "      <td>25410</td>\n",
       "      <td>11</td>\n",
       "      <td>2</td>\n",
       "      <td>1</td>\n",
       "    </tr>\n",
       "    <tr>\n",
       "      <th>36</th>\n",
       "      <td>24170</td>\n",
       "      <td>12</td>\n",
       "      <td>3</td>\n",
       "      <td>1</td>\n",
       "    </tr>\n",
       "    <tr>\n",
       "      <th>38</th>\n",
       "      <td>26330</td>\n",
       "      <td>13</td>\n",
       "      <td>2</td>\n",
       "      <td>1</td>\n",
       "    </tr>\n",
       "    <tr>\n",
       "      <th>40</th>\n",
       "      <td>25685</td>\n",
       "      <td>15</td>\n",
       "      <td>3</td>\n",
       "      <td>1</td>\n",
       "    </tr>\n",
       "    <tr>\n",
       "      <th>41</th>\n",
       "      <td>27837</td>\n",
       "      <td>16</td>\n",
       "      <td>2</td>\n",
       "      <td>1</td>\n",
       "    </tr>\n",
       "  </tbody>\n",
       "</table>\n",
       "</div>"
      ],
      "text/plain": [
       "        S   X  E  M\n",
       "0   13876   1  1  1\n",
       "2   18701   1  3  1\n",
       "5   20872   2  2  1\n",
       "10  14975   3  1  1\n",
       "11  21371   3  2  1\n",
       "12  19800   3  3  1\n",
       "14  20263   4  3  1\n",
       "19  15965   5  1  1\n",
       "21  21352   6  3  1\n",
       "23  22884   6  2  1\n",
       "24  16978   7  1  1\n",
       "26  17404   8  1  1\n",
       "27  22184   8  3  1\n",
       "31  23174  10  3  1\n",
       "32  23780  10  2  1\n",
       "33  25410  11  2  1\n",
       "36  24170  12  3  1\n",
       "38  26330  13  2  1\n",
       "40  25685  15  3  1\n",
       "41  27837  16  2  1"
      ]
     },
     "execution_count": 86,
     "metadata": {},
     "output_type": "execute_result"
    }
   ],
   "source": [
    "management_yes"
   ]
  },
  {
   "cell_type": "markdown",
   "metadata": {},
   "source": [
    "## since these 2  sample sets are independent of each other , so we can make use of indepdent  sample t test or 2 t test "
   ]
  },
  {
   "cell_type": "markdown",
   "metadata": {},
   "source": [
    "# H0 : there is no statistically difference between the salaries\n",
    "## H1 : there is a statistical difference between the salaries"
   ]
  },
  {
   "cell_type": "code",
   "execution_count": 88,
   "metadata": {},
   "outputs": [
    {
     "data": {
      "text/plain": [
       "Ttest_indResult(statistic=7.075221612412384, pvalue=8.870138031217042e-09)"
      ]
     },
     "execution_count": 88,
     "metadata": {},
     "output_type": "execute_result"
    }
   ],
   "source": [
    "stats.ttest_ind(management_yes['S'],management_no['S'])"
   ]
  },
  {
   "cell_type": "markdown",
   "metadata": {},
   "source": [
    "##  t score is positive  , which means the management employees are higher than other employees\n",
    "## p value is vert less , hence p low , null go \n",
    "## hence alternative h1  is  accepted \n",
    "# hence there is statistical differemnce between  management and non managememt employees"
   ]
  },
  {
   "cell_type": "markdown",
   "metadata": {},
   "source": [
    "# hence there is nothing special for our  sample , since management employees do have higher  salaries than  regular employes "
   ]
  },
  {
   "cell_type": "code",
   "execution_count": 91,
   "metadata": {},
   "outputs": [
    {
     "data": {
      "text/html": [
       "<div>\n",
       "<style scoped>\n",
       "    .dataframe tbody tr th:only-of-type {\n",
       "        vertical-align: middle;\n",
       "    }\n",
       "\n",
       "    .dataframe tbody tr th {\n",
       "        vertical-align: top;\n",
       "    }\n",
       "\n",
       "    .dataframe thead th {\n",
       "        text-align: right;\n",
       "    }\n",
       "</style>\n",
       "<table border=\"1\" class=\"dataframe\">\n",
       "  <thead>\n",
       "    <tr style=\"text-align: right;\">\n",
       "      <th></th>\n",
       "      <th>S</th>\n",
       "      <th>X</th>\n",
       "      <th>E</th>\n",
       "      <th>M</th>\n",
       "    </tr>\n",
       "  </thead>\n",
       "  <tbody>\n",
       "    <tr>\n",
       "      <th>count</th>\n",
       "      <td>46.000000</td>\n",
       "      <td>46.000000</td>\n",
       "      <td>46.000000</td>\n",
       "      <td>46.000000</td>\n",
       "    </tr>\n",
       "    <tr>\n",
       "      <th>mean</th>\n",
       "      <td>17270.195652</td>\n",
       "      <td>7.500000</td>\n",
       "      <td>1.978261</td>\n",
       "      <td>0.434783</td>\n",
       "    </tr>\n",
       "    <tr>\n",
       "      <th>std</th>\n",
       "      <td>4716.631513</td>\n",
       "      <td>5.171503</td>\n",
       "      <td>0.774285</td>\n",
       "      <td>0.501206</td>\n",
       "    </tr>\n",
       "    <tr>\n",
       "      <th>min</th>\n",
       "      <td>10535.000000</td>\n",
       "      <td>1.000000</td>\n",
       "      <td>1.000000</td>\n",
       "      <td>0.000000</td>\n",
       "    </tr>\n",
       "    <tr>\n",
       "      <th>25%</th>\n",
       "      <td>13320.750000</td>\n",
       "      <td>3.000000</td>\n",
       "      <td>1.000000</td>\n",
       "      <td>0.000000</td>\n",
       "    </tr>\n",
       "    <tr>\n",
       "      <th>50%</th>\n",
       "      <td>16436.000000</td>\n",
       "      <td>6.000000</td>\n",
       "      <td>2.000000</td>\n",
       "      <td>0.000000</td>\n",
       "    </tr>\n",
       "    <tr>\n",
       "      <th>75%</th>\n",
       "      <td>20719.750000</td>\n",
       "      <td>11.000000</td>\n",
       "      <td>3.000000</td>\n",
       "      <td>1.000000</td>\n",
       "    </tr>\n",
       "    <tr>\n",
       "      <th>max</th>\n",
       "      <td>27837.000000</td>\n",
       "      <td>20.000000</td>\n",
       "      <td>3.000000</td>\n",
       "      <td>1.000000</td>\n",
       "    </tr>\n",
       "  </tbody>\n",
       "</table>\n",
       "</div>"
      ],
      "text/plain": [
       "                  S          X          E          M\n",
       "count     46.000000  46.000000  46.000000  46.000000\n",
       "mean   17270.195652   7.500000   1.978261   0.434783\n",
       "std     4716.631513   5.171503   0.774285   0.501206\n",
       "min    10535.000000   1.000000   1.000000   0.000000\n",
       "25%    13320.750000   3.000000   1.000000   0.000000\n",
       "50%    16436.000000   6.000000   2.000000   0.000000\n",
       "75%    20719.750000  11.000000   3.000000   1.000000\n",
       "max    27837.000000  20.000000   3.000000   1.000000"
      ]
     },
     "execution_count": 91,
     "metadata": {},
     "output_type": "execute_result"
    }
   ],
   "source": [
    "salary_data.describe()"
   ]
  },
  {
   "cell_type": "markdown",
   "metadata": {},
   "source": [
    "## now , let us see , X : number of work ex :\n",
    "## here we see the mean value is 7.5 and median vaue is 6 , \n",
    "## so , in order to get 2  samples of equal lengths , we do the following :"
   ]
  },
  {
   "cell_type": "code",
   "execution_count": 94,
   "metadata": {},
   "outputs": [
    {
     "data": {
      "text/html": [
       "<div>\n",
       "<style scoped>\n",
       "    .dataframe tbody tr th:only-of-type {\n",
       "        vertical-align: middle;\n",
       "    }\n",
       "\n",
       "    .dataframe tbody tr th {\n",
       "        vertical-align: top;\n",
       "    }\n",
       "\n",
       "    .dataframe thead th {\n",
       "        text-align: right;\n",
       "    }\n",
       "</style>\n",
       "<table border=\"1\" class=\"dataframe\">\n",
       "  <thead>\n",
       "    <tr style=\"text-align: right;\">\n",
       "      <th></th>\n",
       "      <th>S</th>\n",
       "      <th>X</th>\n",
       "      <th>E</th>\n",
       "      <th>M</th>\n",
       "    </tr>\n",
       "  </thead>\n",
       "  <tbody>\n",
       "    <tr>\n",
       "      <th>0</th>\n",
       "      <td>13876</td>\n",
       "      <td>1</td>\n",
       "      <td>1</td>\n",
       "      <td>1</td>\n",
       "    </tr>\n",
       "    <tr>\n",
       "      <th>1</th>\n",
       "      <td>11608</td>\n",
       "      <td>1</td>\n",
       "      <td>3</td>\n",
       "      <td>0</td>\n",
       "    </tr>\n",
       "    <tr>\n",
       "      <th>2</th>\n",
       "      <td>18701</td>\n",
       "      <td>1</td>\n",
       "      <td>3</td>\n",
       "      <td>1</td>\n",
       "    </tr>\n",
       "    <tr>\n",
       "      <th>3</th>\n",
       "      <td>11283</td>\n",
       "      <td>1</td>\n",
       "      <td>2</td>\n",
       "      <td>0</td>\n",
       "    </tr>\n",
       "    <tr>\n",
       "      <th>4</th>\n",
       "      <td>11767</td>\n",
       "      <td>1</td>\n",
       "      <td>3</td>\n",
       "      <td>0</td>\n",
       "    </tr>\n",
       "    <tr>\n",
       "      <th>5</th>\n",
       "      <td>20872</td>\n",
       "      <td>2</td>\n",
       "      <td>2</td>\n",
       "      <td>1</td>\n",
       "    </tr>\n",
       "    <tr>\n",
       "      <th>6</th>\n",
       "      <td>11772</td>\n",
       "      <td>2</td>\n",
       "      <td>2</td>\n",
       "      <td>0</td>\n",
       "    </tr>\n",
       "    <tr>\n",
       "      <th>7</th>\n",
       "      <td>10535</td>\n",
       "      <td>2</td>\n",
       "      <td>1</td>\n",
       "      <td>0</td>\n",
       "    </tr>\n",
       "    <tr>\n",
       "      <th>8</th>\n",
       "      <td>12195</td>\n",
       "      <td>2</td>\n",
       "      <td>3</td>\n",
       "      <td>0</td>\n",
       "    </tr>\n",
       "    <tr>\n",
       "      <th>9</th>\n",
       "      <td>12313</td>\n",
       "      <td>3</td>\n",
       "      <td>2</td>\n",
       "      <td>0</td>\n",
       "    </tr>\n",
       "    <tr>\n",
       "      <th>10</th>\n",
       "      <td>14975</td>\n",
       "      <td>3</td>\n",
       "      <td>1</td>\n",
       "      <td>1</td>\n",
       "    </tr>\n",
       "    <tr>\n",
       "      <th>11</th>\n",
       "      <td>21371</td>\n",
       "      <td>3</td>\n",
       "      <td>2</td>\n",
       "      <td>1</td>\n",
       "    </tr>\n",
       "    <tr>\n",
       "      <th>12</th>\n",
       "      <td>19800</td>\n",
       "      <td>3</td>\n",
       "      <td>3</td>\n",
       "      <td>1</td>\n",
       "    </tr>\n",
       "    <tr>\n",
       "      <th>13</th>\n",
       "      <td>11417</td>\n",
       "      <td>4</td>\n",
       "      <td>1</td>\n",
       "      <td>0</td>\n",
       "    </tr>\n",
       "    <tr>\n",
       "      <th>14</th>\n",
       "      <td>20263</td>\n",
       "      <td>4</td>\n",
       "      <td>3</td>\n",
       "      <td>1</td>\n",
       "    </tr>\n",
       "    <tr>\n",
       "      <th>15</th>\n",
       "      <td>13231</td>\n",
       "      <td>4</td>\n",
       "      <td>3</td>\n",
       "      <td>0</td>\n",
       "    </tr>\n",
       "    <tr>\n",
       "      <th>16</th>\n",
       "      <td>12884</td>\n",
       "      <td>4</td>\n",
       "      <td>2</td>\n",
       "      <td>0</td>\n",
       "    </tr>\n",
       "    <tr>\n",
       "      <th>17</th>\n",
       "      <td>13245</td>\n",
       "      <td>5</td>\n",
       "      <td>2</td>\n",
       "      <td>0</td>\n",
       "    </tr>\n",
       "    <tr>\n",
       "      <th>18</th>\n",
       "      <td>13677</td>\n",
       "      <td>5</td>\n",
       "      <td>3</td>\n",
       "      <td>0</td>\n",
       "    </tr>\n",
       "    <tr>\n",
       "      <th>19</th>\n",
       "      <td>15965</td>\n",
       "      <td>5</td>\n",
       "      <td>1</td>\n",
       "      <td>1</td>\n",
       "    </tr>\n",
       "  </tbody>\n",
       "</table>\n",
       "</div>"
      ],
      "text/plain": [
       "        S  X  E  M\n",
       "0   13876  1  1  1\n",
       "1   11608  1  3  0\n",
       "2   18701  1  3  1\n",
       "3   11283  1  2  0\n",
       "4   11767  1  3  0\n",
       "5   20872  2  2  1\n",
       "6   11772  2  2  0\n",
       "7   10535  2  1  0\n",
       "8   12195  2  3  0\n",
       "9   12313  3  2  0\n",
       "10  14975  3  1  1\n",
       "11  21371  3  2  1\n",
       "12  19800  3  3  1\n",
       "13  11417  4  1  0\n",
       "14  20263  4  3  1\n",
       "15  13231  4  3  0\n",
       "16  12884  4  2  0\n",
       "17  13245  5  2  0\n",
       "18  13677  5  3  0\n",
       "19  15965  5  1  1"
      ]
     },
     "execution_count": 94,
     "metadata": {},
     "output_type": "execute_result"
    }
   ],
   "source": [
    "low_exp = salary_data[salary_data['X']<6]\n",
    "high_exp = salary_data[salary_data['X']>=6]\n",
    "\n",
    "low_exp"
   ]
  },
  {
   "cell_type": "code",
   "execution_count": 95,
   "metadata": {},
   "outputs": [
    {
     "data": {
      "text/plain": [
       "Ttest_indResult(statistic=-3.8744284801234032, pvalue=0.0003515996989646619)"
      ]
     },
     "execution_count": 95,
     "metadata": {},
     "output_type": "execute_result"
    }
   ],
   "source": [
    "## apply t test \n",
    "\n",
    "stats.ttest_ind(low_exp['S'],high_exp['S'])"
   ]
  },
  {
   "cell_type": "markdown",
   "metadata": {},
   "source": [
    "# hence  this proves , people wth exp less tha  6 years , having high salary than people with more than 6 years work ex\n",
    "## is hardly possible , since p value is very low "
   ]
  },
  {
   "cell_type": "code",
   "execution_count": null,
   "metadata": {},
   "outputs": [],
   "source": []
  },
  {
   "cell_type": "code",
   "execution_count": null,
   "metadata": {},
   "outputs": [],
   "source": []
  }
 ],
 "metadata": {
  "kernelspec": {
   "display_name": "Python 3",
   "language": "python",
   "name": "python3"
  },
  "language_info": {
   "codemirror_mode": {
    "name": "ipython",
    "version": 3
   },
   "file_extension": ".py",
   "mimetype": "text/x-python",
   "name": "python",
   "nbconvert_exporter": "python",
   "pygments_lexer": "ipython3",
   "version": "3.7.7"
  }
 },
 "nbformat": 4,
 "nbformat_minor": 4
}
